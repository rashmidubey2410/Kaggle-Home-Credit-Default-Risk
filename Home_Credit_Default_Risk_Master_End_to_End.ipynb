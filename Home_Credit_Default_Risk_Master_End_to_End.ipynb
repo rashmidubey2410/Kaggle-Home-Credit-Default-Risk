{
  "nbformat": 4,
  "nbformat_minor": 0,
  "metadata": {
    "kernelspec": {
      "display_name": "Python 3",
      "language": "python",
      "name": "python3"
    },
    "language_info": {
      "codemirror_mode": {
        "name": "ipython",
        "version": 3
      },
      "file_extension": ".py",
      "mimetype": "text/x-python",
      "name": "python",
      "nbconvert_exporter": "python",
      "pygments_lexer": "ipython3",
      "version": "3.7.4"
    },
    "colab": {
      "name": "Home Credit Default Risk- Master-End to End.ipynb",
      "provenance": [],
      "collapsed_sections": [
        "V5fgbfb9diIl",
        "HSilpdz7diK3",
        "nc--CB03diLh",
        "6a-39LeqdiLu",
        "Pw4obvpZdiMK",
        "tpgt594qdiMM",
        "JKoX9PmxdiNW",
        "GfZJ7fg5diNa",
        "mmqUtkoMdiNz",
        "2_A5uJqddiOJ",
        "CD_UFi6NdiOR",
        "aztF00YfdiO4",
        "v6RprO7udiPC",
        "79u9ranydiPq",
        "AbMM7xncdiP-",
        "qS4xYCX1diQU",
        "AAIqwbfsdiRP",
        "RfEFWZu_diS8",
        "_8NLdYhidiVs",
        "76oPDBG-diWZ",
        "2HXnhyErdiWo",
        "wTt7vm9odiXA",
        "YtgdhGs2diXJ",
        "Cyjidr4_diXX",
        "bi6iomJgdiXg",
        "235Y5KB1diX8",
        "TCsTX5eXdiYL",
        "jYIxeFZjdiZR",
        "knz1X97WdiZm",
        "QjFqeO2EdiaX",
        "kCN7x_BKdiae",
        "wUc19L1Jdia6",
        "zYysabKAdib2",
        "Z1cfX2H6dicz",
        "OjXajNcCdic1"
      ],
      "toc_visible": true,
      "include_colab_link": true
    }
  },
  "cells": [
    {
      "cell_type": "markdown",
      "metadata": {
        "id": "view-in-github",
        "colab_type": "text"
      },
      "source": [
        "<a href=\"https://colab.research.google.com/github/rashmidubey2410/Kaggle-Home-Credit-Default-Risk/blob/master/Home_Credit_Default_Risk_Master_End_to_End.ipynb\" target=\"_parent\"><img src=\"https://colab.research.google.com/assets/colab-badge.svg\" alt=\"Open In Colab\"/></a>"
      ]
    },
    {
      "cell_type": "markdown",
      "metadata": {
        "id": "lMtiedz9diIZ",
        "colab_type": "text"
      },
      "source": [
        "# Home Credit Default Risk- End to End Machine learning project"
      ]
    },
    {
      "cell_type": "markdown",
      "metadata": {
        "id": "5QMePLtidiIf",
        "colab_type": "text"
      },
      "source": [
        "___"
      ]
    },
    {
      "cell_type": "markdown",
      "metadata": {
        "id": "V5fgbfb9diIl",
        "colab_type": "text"
      },
      "source": [
        "## Problem statement:\n",
        "\n",
        "* Building a model to predict how capable each applicant is of repaying a loan, so that sanctioning loan only for the applicants who are likely to repay the loan."
      ]
    },
    {
      "cell_type": "markdown",
      "metadata": {
        "id": "HerMqENKdiIq",
        "colab_type": "text"
      },
      "source": [
        "### Data Description and Overview:\n",
        "\n",
        "The data is provided by Home Credit, a service dedicated to provided lines of credit (loans) to the unbanked population.\n",
        "\n",
        "There are 7 different sources of data:\n",
        "\n",
        "* **application_train/application_test:** The main training data with information about each loan application at Home Credit. Every loan has its own row and is identified by the feature SK_ID_CURR. The training application data comes with the TARGET indicating 0: the loan was repaid or 1: the loan was not repaid. Here we will use only the Training data.\n",
        "* **bureau:** In this dataset it consists of data concerning client’s previous credits from other financial institutions. Each previous credit has its own row in bureau, but one loan in the application data can have multiple previous credits.\n",
        "* **bureau_balance:** It consists of monthly data about the previous credits in bureau. Each row is one month of a previous credit, and a single previous credit can have multiple rows, one for each month of the credit length.\n",
        "* **previous_application:** The data of previous applications for loans at Home Credit of clients who have loans in the application data. Each current loan in the application data can have multiple previous loans. Each previous application has one row and is identified by the feature SK_ID_PREV.\n",
        "* **POS_CASH_BALANCE:** It consists of monthly data about previous point of sale or cash loans clients have had with Home Credit. Each row is one month of a previous point of sale or cash loan, and a single previous loan can have many rows.\n",
        "* **credit_card_balance:** The monthly data about previous credit cards clients have had with Home Credit. Each row is one month of a credit card balance, and a single credit card can have many rows.\n",
        "* **installments_payment:** The data of payment history for previous loans at Home Credit. There is one row for every made payment and one row for every missed payment."
      ]
    },
    {
      "cell_type": "markdown",
      "metadata": {
        "id": "DdVd7HRydiIu",
        "colab_type": "text"
      },
      "source": [
        "### Data Source:\n",
        "* We can get the complete data required for this problem from the link : https://www.kaggle.com/c/home-credit-default-risk/data\n"
      ]
    },
    {
      "cell_type": "markdown",
      "metadata": {
        "id": "EkJSlKpTdiI0",
        "colab_type": "text"
      },
      "source": [
        "___"
      ]
    },
    {
      "cell_type": "markdown",
      "metadata": {
        "id": "V1HJ94-ediI3",
        "colab_type": "text"
      },
      "source": [
        "## import the necessary packages"
      ]
    },
    {
      "cell_type": "markdown",
      "metadata": {
        "id": "PGXpA2_ysgxF",
        "colab_type": "text"
      },
      "source": [
        ""
      ]
    },
    {
      "cell_type": "markdown",
      "metadata": {
        "id": "JbAb36JKdiJd",
        "colab_type": "text"
      },
      "source": [
        "## Load the data from given csv file into a pandas dataframe."
      ]
    },
    {
      "cell_type": "code",
      "metadata": {
        "id": "EWYS1INjdiJD",
        "colab_type": "code",
        "colab": {
          "base_uri": "https://localhost:8080/"
        },
        "outputId": "7d59b13c-45a7-4d83-b06d-15133899f366"
      },
      "source": [
        "import pandas as pd\n",
        "import sklearn\n",
        "import numpy as np\n",
        "import matplotlib.pyplot as plt\n",
        "import os\n",
        "import warnings\n",
        "import seaborn as sns\n",
        "\n",
        "from sklearn.preprocessing import OneHotEncoder\n",
        "from sklearn.impute import SimpleImputer\n",
        "from sklearn.pipeline import Pipeline\n",
        "from sklearn.compose import ColumnTransformer\n",
        "from sklearn.preprocessing import StandardScaler\n",
        "from sklearn.svm import LinearSVC\n",
        "from sklearn.metrics import roc_auc_score\n",
        "from sklearn.linear_model import LogisticRegression\n",
        "from sklearn.metrics import roc_auc_score\n",
        "from sklearn.calibration import CalibratedClassifierCV\n",
        "from sklearn.metrics import confusion_matrix\n",
        "from sklearn.ensemble import RandomForestClassifier\n",
        "from sklearn.metrics import accuracy_score\n",
        "from sklearn.linear_model import SGDClassifier\n",
        "\n",
        "import plotly.offline as py\n",
        "import plotly.graph_objs as go\n",
        "\n",
        "from plotly.offline import init_notebook_mode, iplot\n",
        "from sklearn.model_selection import train_test_split\n",
        "init_notebook_mode(connected=True)\n",
        "\n",
        "import cufflinks as cf\n",
        "cf.go_offline()\n",
        "\n",
        "import pickle\n",
        "import gc\n",
        "import lightgbm as lgb\n",
        "\n",
        "warnings.filterwarnings('ignore')\n",
        "%matplotlib inline\n",
        "print(\"Libraries Imported..\")"
      ],
      "execution_count": 3,
      "outputs": [
        {
          "output_type": "display_data",
          "data": {
            "text/html": [
              "        <script type=\"text/javascript\">\n",
              "        window.PlotlyConfig = {MathJaxConfig: 'local'};\n",
              "        if (window.MathJax) {MathJax.Hub.Config({SVG: {font: \"STIX-Web\"}});}\n",
              "        if (typeof require !== 'undefined') {\n",
              "        require.undef(\"plotly\");\n",
              "        requirejs.config({\n",
              "            paths: {\n",
              "                'plotly': ['https://cdn.plot.ly/plotly-latest.min']\n",
              "            }\n",
              "        });\n",
              "        require(['plotly'], function(Plotly) {\n",
              "            window._Plotly = Plotly;\n",
              "        });\n",
              "        }\n",
              "        </script>\n",
              "        "
            ]
          },
          "metadata": {
            "tags": []
          }
        },
        {
          "output_type": "display_data",
          "data": {
            "text/html": [
              "        <script type=\"text/javascript\">\n",
              "        window.PlotlyConfig = {MathJaxConfig: 'local'};\n",
              "        if (window.MathJax) {MathJax.Hub.Config({SVG: {font: \"STIX-Web\"}});}\n",
              "        if (typeof require !== 'undefined') {\n",
              "        require.undef(\"plotly\");\n",
              "        requirejs.config({\n",
              "            paths: {\n",
              "                'plotly': ['https://cdn.plot.ly/plotly-latest.min']\n",
              "            }\n",
              "        });\n",
              "        require(['plotly'], function(Plotly) {\n",
              "            window._Plotly = Plotly;\n",
              "        });\n",
              "        }\n",
              "        </script>\n",
              "        "
            ]
          },
          "metadata": {
            "tags": []
          }
        },
        {
          "output_type": "stream",
          "text": [
            "Libraries Imported..\n"
          ],
          "name": "stdout"
        }
      ]
    },
    {
      "cell_type": "markdown",
      "metadata": {
        "id": "DOASsD-QdiJz",
        "colab_type": "text"
      },
      "source": [
        "We are using ‘application_train.csv’ file :\n",
        "1. This dataset consists of 307511 rows and 122 columns.\n",
        "2. Each row has unique id ‘SK_ID_CURR’ and the output label is in the ‘TARGET’ column.\n",
        "3. TARGET indicating 0: the loan was repaid or 1: the loan was not repaid.\n",
        "4. The description of each column can be found in the file ‘HomeCredit_columns_description.csv’"
      ]
    },
    {
      "cell_type": "code",
      "metadata": {
        "id": "X8W1wuF2diJ3",
        "colab_type": "code",
        "colab": {
          "base_uri": "https://localhost:8080/"
        },
        "outputId": "d21fc7c8-7de4-4334-f478-b7b29b679f89"
      },
      "source": [
        "count = application.isnull().sum().sort_values(ascending=False)\n",
        "percentage = ((application.isnull().sum()/len(application)*100)).sort_values(ascending=False)\n",
        "\n",
        "missing_application = pd.concat([count, percentage], axis=1, keys=['Count','Percentage'])\n",
        "print('Count and percentage of missing values for top 20 columns:')\n",
        "missing_application.head(20)"
      ],
      "execution_count": 4,
      "outputs": [
        {
          "output_type": "error",
          "ename": "NameError",
          "evalue": "ignored",
          "traceback": [
            "\u001b[0;31m---------------------------------------------------------------------------\u001b[0m",
            "\u001b[0;31mNameError\u001b[0m                                 Traceback (most recent call last)",
            "\u001b[0;32m<ipython-input-4-b8e5bb078ecc>\u001b[0m in \u001b[0;36m<module>\u001b[0;34m()\u001b[0m\n\u001b[0;32m----> 1\u001b[0;31m \u001b[0mcount\u001b[0m \u001b[0;34m=\u001b[0m \u001b[0mapplication\u001b[0m\u001b[0;34m.\u001b[0m\u001b[0misnull\u001b[0m\u001b[0;34m(\u001b[0m\u001b[0;34m)\u001b[0m\u001b[0;34m.\u001b[0m\u001b[0msum\u001b[0m\u001b[0;34m(\u001b[0m\u001b[0;34m)\u001b[0m\u001b[0;34m.\u001b[0m\u001b[0msort_values\u001b[0m\u001b[0;34m(\u001b[0m\u001b[0mascending\u001b[0m\u001b[0;34m=\u001b[0m\u001b[0;32mFalse\u001b[0m\u001b[0;34m)\u001b[0m\u001b[0;34m\u001b[0m\u001b[0;34m\u001b[0m\u001b[0m\n\u001b[0m\u001b[1;32m      2\u001b[0m \u001b[0mpercentage\u001b[0m \u001b[0;34m=\u001b[0m \u001b[0;34m(\u001b[0m\u001b[0;34m(\u001b[0m\u001b[0mapplication\u001b[0m\u001b[0;34m.\u001b[0m\u001b[0misnull\u001b[0m\u001b[0;34m(\u001b[0m\u001b[0;34m)\u001b[0m\u001b[0;34m.\u001b[0m\u001b[0msum\u001b[0m\u001b[0;34m(\u001b[0m\u001b[0;34m)\u001b[0m\u001b[0;34m/\u001b[0m\u001b[0mlen\u001b[0m\u001b[0;34m(\u001b[0m\u001b[0mapplication\u001b[0m\u001b[0;34m)\u001b[0m\u001b[0;34m*\u001b[0m\u001b[0;36m100\u001b[0m\u001b[0;34m)\u001b[0m\u001b[0;34m)\u001b[0m\u001b[0;34m.\u001b[0m\u001b[0msort_values\u001b[0m\u001b[0;34m(\u001b[0m\u001b[0mascending\u001b[0m\u001b[0;34m=\u001b[0m\u001b[0;32mFalse\u001b[0m\u001b[0;34m)\u001b[0m\u001b[0;34m\u001b[0m\u001b[0;34m\u001b[0m\u001b[0m\n\u001b[1;32m      3\u001b[0m \u001b[0;34m\u001b[0m\u001b[0m\n\u001b[1;32m      4\u001b[0m \u001b[0mmissing_application\u001b[0m \u001b[0;34m=\u001b[0m \u001b[0mpd\u001b[0m\u001b[0;34m.\u001b[0m\u001b[0mconcat\u001b[0m\u001b[0;34m(\u001b[0m\u001b[0;34m[\u001b[0m\u001b[0mcount\u001b[0m\u001b[0;34m,\u001b[0m \u001b[0mpercentage\u001b[0m\u001b[0;34m]\u001b[0m\u001b[0;34m,\u001b[0m \u001b[0maxis\u001b[0m\u001b[0;34m=\u001b[0m\u001b[0;36m1\u001b[0m\u001b[0;34m,\u001b[0m \u001b[0mkeys\u001b[0m\u001b[0;34m=\u001b[0m\u001b[0;34m[\u001b[0m\u001b[0;34m'Count'\u001b[0m\u001b[0;34m,\u001b[0m\u001b[0;34m'Percentage'\u001b[0m\u001b[0;34m]\u001b[0m\u001b[0;34m)\u001b[0m\u001b[0;34m\u001b[0m\u001b[0;34m\u001b[0m\u001b[0m\n\u001b[1;32m      5\u001b[0m \u001b[0mprint\u001b[0m\u001b[0;34m(\u001b[0m\u001b[0;34m'Count and percentage of missing values for top 20 columns:'\u001b[0m\u001b[0;34m)\u001b[0m\u001b[0;34m\u001b[0m\u001b[0;34m\u001b[0m\u001b[0m\n",
            "\u001b[0;31mNameError\u001b[0m: name 'application' is not defined"
          ]
        }
      ]
    },
    {
      "cell_type": "markdown",
      "metadata": {
        "id": "IkHbX5PCdiKI",
        "colab_type": "text"
      },
      "source": [
        "### Let’s check for duplicate data:"
      ]
    },
    {
      "cell_type": "code",
      "metadata": {
        "id": "6YSi9539diJg",
        "colab_type": "code",
        "colab": {
          "base_uri": "https://localhost:8080/"
        },
        "outputId": "2e3ec58d-8554-4414-82a9-ebae65568e5a"
      },
      "source": [
        "print('Reading the data....', end='')\n",
        "application = pd.read_csv('application_train.csv')\n",
        "print('done!!!')\n",
        "print('The shape of data:',application.shape)\n",
        "print('First 5 rows of data:')\n",
        "application.head()"
      ],
      "execution_count": 5,
      "outputs": [
        {
          "output_type": "stream",
          "text": [
            "Reading the data....done!!!\n",
            "The shape of data: (281452, 122)\n",
            "First 5 rows of data:\n"
          ],
          "name": "stdout"
        },
        {
          "output_type": "execute_result",
          "data": {
            "text/html": [
              "<div>\n",
              "<style scoped>\n",
              "    .dataframe tbody tr th:only-of-type {\n",
              "        vertical-align: middle;\n",
              "    }\n",
              "\n",
              "    .dataframe tbody tr th {\n",
              "        vertical-align: top;\n",
              "    }\n",
              "\n",
              "    .dataframe thead th {\n",
              "        text-align: right;\n",
              "    }\n",
              "</style>\n",
              "<table border=\"1\" class=\"dataframe\">\n",
              "  <thead>\n",
              "    <tr style=\"text-align: right;\">\n",
              "      <th></th>\n",
              "      <th>SK_ID_CURR</th>\n",
              "      <th>TARGET</th>\n",
              "      <th>NAME_CONTRACT_TYPE</th>\n",
              "      <th>CODE_GENDER</th>\n",
              "      <th>FLAG_OWN_CAR</th>\n",
              "      <th>FLAG_OWN_REALTY</th>\n",
              "      <th>CNT_CHILDREN</th>\n",
              "      <th>AMT_INCOME_TOTAL</th>\n",
              "      <th>AMT_CREDIT</th>\n",
              "      <th>AMT_ANNUITY</th>\n",
              "      <th>AMT_GOODS_PRICE</th>\n",
              "      <th>NAME_TYPE_SUITE</th>\n",
              "      <th>NAME_INCOME_TYPE</th>\n",
              "      <th>NAME_EDUCATION_TYPE</th>\n",
              "      <th>NAME_FAMILY_STATUS</th>\n",
              "      <th>NAME_HOUSING_TYPE</th>\n",
              "      <th>REGION_POPULATION_RELATIVE</th>\n",
              "      <th>DAYS_BIRTH</th>\n",
              "      <th>DAYS_EMPLOYED</th>\n",
              "      <th>DAYS_REGISTRATION</th>\n",
              "      <th>DAYS_ID_PUBLISH</th>\n",
              "      <th>OWN_CAR_AGE</th>\n",
              "      <th>FLAG_MOBIL</th>\n",
              "      <th>FLAG_EMP_PHONE</th>\n",
              "      <th>FLAG_WORK_PHONE</th>\n",
              "      <th>FLAG_CONT_MOBILE</th>\n",
              "      <th>FLAG_PHONE</th>\n",
              "      <th>FLAG_EMAIL</th>\n",
              "      <th>OCCUPATION_TYPE</th>\n",
              "      <th>CNT_FAM_MEMBERS</th>\n",
              "      <th>REGION_RATING_CLIENT</th>\n",
              "      <th>REGION_RATING_CLIENT_W_CITY</th>\n",
              "      <th>WEEKDAY_APPR_PROCESS_START</th>\n",
              "      <th>HOUR_APPR_PROCESS_START</th>\n",
              "      <th>REG_REGION_NOT_LIVE_REGION</th>\n",
              "      <th>REG_REGION_NOT_WORK_REGION</th>\n",
              "      <th>LIVE_REGION_NOT_WORK_REGION</th>\n",
              "      <th>REG_CITY_NOT_LIVE_CITY</th>\n",
              "      <th>REG_CITY_NOT_WORK_CITY</th>\n",
              "      <th>LIVE_CITY_NOT_WORK_CITY</th>\n",
              "      <th>...</th>\n",
              "      <th>LIVINGAPARTMENTS_MEDI</th>\n",
              "      <th>LIVINGAREA_MEDI</th>\n",
              "      <th>NONLIVINGAPARTMENTS_MEDI</th>\n",
              "      <th>NONLIVINGAREA_MEDI</th>\n",
              "      <th>FONDKAPREMONT_MODE</th>\n",
              "      <th>HOUSETYPE_MODE</th>\n",
              "      <th>TOTALAREA_MODE</th>\n",
              "      <th>WALLSMATERIAL_MODE</th>\n",
              "      <th>EMERGENCYSTATE_MODE</th>\n",
              "      <th>OBS_30_CNT_SOCIAL_CIRCLE</th>\n",
              "      <th>DEF_30_CNT_SOCIAL_CIRCLE</th>\n",
              "      <th>OBS_60_CNT_SOCIAL_CIRCLE</th>\n",
              "      <th>DEF_60_CNT_SOCIAL_CIRCLE</th>\n",
              "      <th>DAYS_LAST_PHONE_CHANGE</th>\n",
              "      <th>FLAG_DOCUMENT_2</th>\n",
              "      <th>FLAG_DOCUMENT_3</th>\n",
              "      <th>FLAG_DOCUMENT_4</th>\n",
              "      <th>FLAG_DOCUMENT_5</th>\n",
              "      <th>FLAG_DOCUMENT_6</th>\n",
              "      <th>FLAG_DOCUMENT_7</th>\n",
              "      <th>FLAG_DOCUMENT_8</th>\n",
              "      <th>FLAG_DOCUMENT_9</th>\n",
              "      <th>FLAG_DOCUMENT_10</th>\n",
              "      <th>FLAG_DOCUMENT_11</th>\n",
              "      <th>FLAG_DOCUMENT_12</th>\n",
              "      <th>FLAG_DOCUMENT_13</th>\n",
              "      <th>FLAG_DOCUMENT_14</th>\n",
              "      <th>FLAG_DOCUMENT_15</th>\n",
              "      <th>FLAG_DOCUMENT_16</th>\n",
              "      <th>FLAG_DOCUMENT_17</th>\n",
              "      <th>FLAG_DOCUMENT_18</th>\n",
              "      <th>FLAG_DOCUMENT_19</th>\n",
              "      <th>FLAG_DOCUMENT_20</th>\n",
              "      <th>FLAG_DOCUMENT_21</th>\n",
              "      <th>AMT_REQ_CREDIT_BUREAU_HOUR</th>\n",
              "      <th>AMT_REQ_CREDIT_BUREAU_DAY</th>\n",
              "      <th>AMT_REQ_CREDIT_BUREAU_WEEK</th>\n",
              "      <th>AMT_REQ_CREDIT_BUREAU_MON</th>\n",
              "      <th>AMT_REQ_CREDIT_BUREAU_QRT</th>\n",
              "      <th>AMT_REQ_CREDIT_BUREAU_YEAR</th>\n",
              "    </tr>\n",
              "  </thead>\n",
              "  <tbody>\n",
              "    <tr>\n",
              "      <th>0</th>\n",
              "      <td>100002</td>\n",
              "      <td>1</td>\n",
              "      <td>Cash loans</td>\n",
              "      <td>M</td>\n",
              "      <td>N</td>\n",
              "      <td>Y</td>\n",
              "      <td>0</td>\n",
              "      <td>202500.0</td>\n",
              "      <td>406597.5</td>\n",
              "      <td>24700.5</td>\n",
              "      <td>351000.0</td>\n",
              "      <td>Unaccompanied</td>\n",
              "      <td>Working</td>\n",
              "      <td>Secondary / secondary special</td>\n",
              "      <td>Single / not married</td>\n",
              "      <td>House / apartment</td>\n",
              "      <td>0.018801</td>\n",
              "      <td>-9461</td>\n",
              "      <td>-637</td>\n",
              "      <td>-3648.0</td>\n",
              "      <td>-2120</td>\n",
              "      <td>NaN</td>\n",
              "      <td>1</td>\n",
              "      <td>1</td>\n",
              "      <td>0</td>\n",
              "      <td>1</td>\n",
              "      <td>1</td>\n",
              "      <td>0</td>\n",
              "      <td>Laborers</td>\n",
              "      <td>1.0</td>\n",
              "      <td>2.0</td>\n",
              "      <td>2.0</td>\n",
              "      <td>WEDNESDAY</td>\n",
              "      <td>10.0</td>\n",
              "      <td>0.0</td>\n",
              "      <td>0.0</td>\n",
              "      <td>0.0</td>\n",
              "      <td>0.0</td>\n",
              "      <td>0.0</td>\n",
              "      <td>0.0</td>\n",
              "      <td>...</td>\n",
              "      <td>0.0205</td>\n",
              "      <td>0.0193</td>\n",
              "      <td>0.0000</td>\n",
              "      <td>0.00</td>\n",
              "      <td>reg oper account</td>\n",
              "      <td>block of flats</td>\n",
              "      <td>0.0149</td>\n",
              "      <td>Stone, brick</td>\n",
              "      <td>No</td>\n",
              "      <td>2.0</td>\n",
              "      <td>2.0</td>\n",
              "      <td>2.0</td>\n",
              "      <td>2.0</td>\n",
              "      <td>-1134.0</td>\n",
              "      <td>0.0</td>\n",
              "      <td>1.0</td>\n",
              "      <td>0.0</td>\n",
              "      <td>0.0</td>\n",
              "      <td>0.0</td>\n",
              "      <td>0.0</td>\n",
              "      <td>0.0</td>\n",
              "      <td>0.0</td>\n",
              "      <td>0.0</td>\n",
              "      <td>0.0</td>\n",
              "      <td>0.0</td>\n",
              "      <td>0.0</td>\n",
              "      <td>0.0</td>\n",
              "      <td>0.0</td>\n",
              "      <td>0.0</td>\n",
              "      <td>0.0</td>\n",
              "      <td>0.0</td>\n",
              "      <td>0.0</td>\n",
              "      <td>0.0</td>\n",
              "      <td>0.0</td>\n",
              "      <td>0.0</td>\n",
              "      <td>0.0</td>\n",
              "      <td>0.0</td>\n",
              "      <td>0.0</td>\n",
              "      <td>0.0</td>\n",
              "      <td>1.0</td>\n",
              "    </tr>\n",
              "    <tr>\n",
              "      <th>1</th>\n",
              "      <td>100003</td>\n",
              "      <td>0</td>\n",
              "      <td>Cash loans</td>\n",
              "      <td>F</td>\n",
              "      <td>N</td>\n",
              "      <td>N</td>\n",
              "      <td>0</td>\n",
              "      <td>270000.0</td>\n",
              "      <td>1293502.5</td>\n",
              "      <td>35698.5</td>\n",
              "      <td>1129500.0</td>\n",
              "      <td>Family</td>\n",
              "      <td>State servant</td>\n",
              "      <td>Higher education</td>\n",
              "      <td>Married</td>\n",
              "      <td>House / apartment</td>\n",
              "      <td>0.003541</td>\n",
              "      <td>-16765</td>\n",
              "      <td>-1188</td>\n",
              "      <td>-1186.0</td>\n",
              "      <td>-291</td>\n",
              "      <td>NaN</td>\n",
              "      <td>1</td>\n",
              "      <td>1</td>\n",
              "      <td>0</td>\n",
              "      <td>1</td>\n",
              "      <td>1</td>\n",
              "      <td>0</td>\n",
              "      <td>Core staff</td>\n",
              "      <td>2.0</td>\n",
              "      <td>1.0</td>\n",
              "      <td>1.0</td>\n",
              "      <td>MONDAY</td>\n",
              "      <td>11.0</td>\n",
              "      <td>0.0</td>\n",
              "      <td>0.0</td>\n",
              "      <td>0.0</td>\n",
              "      <td>0.0</td>\n",
              "      <td>0.0</td>\n",
              "      <td>0.0</td>\n",
              "      <td>...</td>\n",
              "      <td>0.0787</td>\n",
              "      <td>0.0558</td>\n",
              "      <td>0.0039</td>\n",
              "      <td>0.01</td>\n",
              "      <td>reg oper account</td>\n",
              "      <td>block of flats</td>\n",
              "      <td>0.0714</td>\n",
              "      <td>Block</td>\n",
              "      <td>No</td>\n",
              "      <td>1.0</td>\n",
              "      <td>0.0</td>\n",
              "      <td>1.0</td>\n",
              "      <td>0.0</td>\n",
              "      <td>-828.0</td>\n",
              "      <td>0.0</td>\n",
              "      <td>1.0</td>\n",
              "      <td>0.0</td>\n",
              "      <td>0.0</td>\n",
              "      <td>0.0</td>\n",
              "      <td>0.0</td>\n",
              "      <td>0.0</td>\n",
              "      <td>0.0</td>\n",
              "      <td>0.0</td>\n",
              "      <td>0.0</td>\n",
              "      <td>0.0</td>\n",
              "      <td>0.0</td>\n",
              "      <td>0.0</td>\n",
              "      <td>0.0</td>\n",
              "      <td>0.0</td>\n",
              "      <td>0.0</td>\n",
              "      <td>0.0</td>\n",
              "      <td>0.0</td>\n",
              "      <td>0.0</td>\n",
              "      <td>0.0</td>\n",
              "      <td>0.0</td>\n",
              "      <td>0.0</td>\n",
              "      <td>0.0</td>\n",
              "      <td>0.0</td>\n",
              "      <td>0.0</td>\n",
              "      <td>0.0</td>\n",
              "    </tr>\n",
              "    <tr>\n",
              "      <th>2</th>\n",
              "      <td>100004</td>\n",
              "      <td>0</td>\n",
              "      <td>Revolving loans</td>\n",
              "      <td>M</td>\n",
              "      <td>Y</td>\n",
              "      <td>Y</td>\n",
              "      <td>0</td>\n",
              "      <td>67500.0</td>\n",
              "      <td>135000.0</td>\n",
              "      <td>6750.0</td>\n",
              "      <td>135000.0</td>\n",
              "      <td>Unaccompanied</td>\n",
              "      <td>Working</td>\n",
              "      <td>Secondary / secondary special</td>\n",
              "      <td>Single / not married</td>\n",
              "      <td>House / apartment</td>\n",
              "      <td>0.010032</td>\n",
              "      <td>-19046</td>\n",
              "      <td>-225</td>\n",
              "      <td>-4260.0</td>\n",
              "      <td>-2531</td>\n",
              "      <td>26.0</td>\n",
              "      <td>1</td>\n",
              "      <td>1</td>\n",
              "      <td>1</td>\n",
              "      <td>1</td>\n",
              "      <td>1</td>\n",
              "      <td>0</td>\n",
              "      <td>Laborers</td>\n",
              "      <td>1.0</td>\n",
              "      <td>2.0</td>\n",
              "      <td>2.0</td>\n",
              "      <td>MONDAY</td>\n",
              "      <td>9.0</td>\n",
              "      <td>0.0</td>\n",
              "      <td>0.0</td>\n",
              "      <td>0.0</td>\n",
              "      <td>0.0</td>\n",
              "      <td>0.0</td>\n",
              "      <td>0.0</td>\n",
              "      <td>...</td>\n",
              "      <td>NaN</td>\n",
              "      <td>NaN</td>\n",
              "      <td>NaN</td>\n",
              "      <td>NaN</td>\n",
              "      <td>NaN</td>\n",
              "      <td>NaN</td>\n",
              "      <td>NaN</td>\n",
              "      <td>NaN</td>\n",
              "      <td>NaN</td>\n",
              "      <td>0.0</td>\n",
              "      <td>0.0</td>\n",
              "      <td>0.0</td>\n",
              "      <td>0.0</td>\n",
              "      <td>-815.0</td>\n",
              "      <td>0.0</td>\n",
              "      <td>0.0</td>\n",
              "      <td>0.0</td>\n",
              "      <td>0.0</td>\n",
              "      <td>0.0</td>\n",
              "      <td>0.0</td>\n",
              "      <td>0.0</td>\n",
              "      <td>0.0</td>\n",
              "      <td>0.0</td>\n",
              "      <td>0.0</td>\n",
              "      <td>0.0</td>\n",
              "      <td>0.0</td>\n",
              "      <td>0.0</td>\n",
              "      <td>0.0</td>\n",
              "      <td>0.0</td>\n",
              "      <td>0.0</td>\n",
              "      <td>0.0</td>\n",
              "      <td>0.0</td>\n",
              "      <td>0.0</td>\n",
              "      <td>0.0</td>\n",
              "      <td>0.0</td>\n",
              "      <td>0.0</td>\n",
              "      <td>0.0</td>\n",
              "      <td>0.0</td>\n",
              "      <td>0.0</td>\n",
              "      <td>0.0</td>\n",
              "    </tr>\n",
              "    <tr>\n",
              "      <th>3</th>\n",
              "      <td>100006</td>\n",
              "      <td>0</td>\n",
              "      <td>Cash loans</td>\n",
              "      <td>F</td>\n",
              "      <td>N</td>\n",
              "      <td>Y</td>\n",
              "      <td>0</td>\n",
              "      <td>135000.0</td>\n",
              "      <td>312682.5</td>\n",
              "      <td>29686.5</td>\n",
              "      <td>297000.0</td>\n",
              "      <td>Unaccompanied</td>\n",
              "      <td>Working</td>\n",
              "      <td>Secondary / secondary special</td>\n",
              "      <td>Civil marriage</td>\n",
              "      <td>House / apartment</td>\n",
              "      <td>0.008019</td>\n",
              "      <td>-19005</td>\n",
              "      <td>-3039</td>\n",
              "      <td>-9833.0</td>\n",
              "      <td>-2437</td>\n",
              "      <td>NaN</td>\n",
              "      <td>1</td>\n",
              "      <td>1</td>\n",
              "      <td>0</td>\n",
              "      <td>1</td>\n",
              "      <td>0</td>\n",
              "      <td>0</td>\n",
              "      <td>Laborers</td>\n",
              "      <td>2.0</td>\n",
              "      <td>2.0</td>\n",
              "      <td>2.0</td>\n",
              "      <td>WEDNESDAY</td>\n",
              "      <td>17.0</td>\n",
              "      <td>0.0</td>\n",
              "      <td>0.0</td>\n",
              "      <td>0.0</td>\n",
              "      <td>0.0</td>\n",
              "      <td>0.0</td>\n",
              "      <td>0.0</td>\n",
              "      <td>...</td>\n",
              "      <td>NaN</td>\n",
              "      <td>NaN</td>\n",
              "      <td>NaN</td>\n",
              "      <td>NaN</td>\n",
              "      <td>NaN</td>\n",
              "      <td>NaN</td>\n",
              "      <td>NaN</td>\n",
              "      <td>NaN</td>\n",
              "      <td>NaN</td>\n",
              "      <td>2.0</td>\n",
              "      <td>0.0</td>\n",
              "      <td>2.0</td>\n",
              "      <td>0.0</td>\n",
              "      <td>-617.0</td>\n",
              "      <td>0.0</td>\n",
              "      <td>1.0</td>\n",
              "      <td>0.0</td>\n",
              "      <td>0.0</td>\n",
              "      <td>0.0</td>\n",
              "      <td>0.0</td>\n",
              "      <td>0.0</td>\n",
              "      <td>0.0</td>\n",
              "      <td>0.0</td>\n",
              "      <td>0.0</td>\n",
              "      <td>0.0</td>\n",
              "      <td>0.0</td>\n",
              "      <td>0.0</td>\n",
              "      <td>0.0</td>\n",
              "      <td>0.0</td>\n",
              "      <td>0.0</td>\n",
              "      <td>0.0</td>\n",
              "      <td>0.0</td>\n",
              "      <td>0.0</td>\n",
              "      <td>0.0</td>\n",
              "      <td>NaN</td>\n",
              "      <td>NaN</td>\n",
              "      <td>NaN</td>\n",
              "      <td>NaN</td>\n",
              "      <td>NaN</td>\n",
              "      <td>NaN</td>\n",
              "    </tr>\n",
              "    <tr>\n",
              "      <th>4</th>\n",
              "      <td>100007</td>\n",
              "      <td>0</td>\n",
              "      <td>Cash loans</td>\n",
              "      <td>M</td>\n",
              "      <td>N</td>\n",
              "      <td>Y</td>\n",
              "      <td>0</td>\n",
              "      <td>121500.0</td>\n",
              "      <td>513000.0</td>\n",
              "      <td>21865.5</td>\n",
              "      <td>513000.0</td>\n",
              "      <td>Unaccompanied</td>\n",
              "      <td>Working</td>\n",
              "      <td>Secondary / secondary special</td>\n",
              "      <td>Single / not married</td>\n",
              "      <td>House / apartment</td>\n",
              "      <td>0.028663</td>\n",
              "      <td>-19932</td>\n",
              "      <td>-3038</td>\n",
              "      <td>-4311.0</td>\n",
              "      <td>-3458</td>\n",
              "      <td>NaN</td>\n",
              "      <td>1</td>\n",
              "      <td>1</td>\n",
              "      <td>0</td>\n",
              "      <td>1</td>\n",
              "      <td>0</td>\n",
              "      <td>0</td>\n",
              "      <td>Core staff</td>\n",
              "      <td>1.0</td>\n",
              "      <td>2.0</td>\n",
              "      <td>2.0</td>\n",
              "      <td>THURSDAY</td>\n",
              "      <td>11.0</td>\n",
              "      <td>0.0</td>\n",
              "      <td>0.0</td>\n",
              "      <td>0.0</td>\n",
              "      <td>0.0</td>\n",
              "      <td>1.0</td>\n",
              "      <td>1.0</td>\n",
              "      <td>...</td>\n",
              "      <td>NaN</td>\n",
              "      <td>NaN</td>\n",
              "      <td>NaN</td>\n",
              "      <td>NaN</td>\n",
              "      <td>NaN</td>\n",
              "      <td>NaN</td>\n",
              "      <td>NaN</td>\n",
              "      <td>NaN</td>\n",
              "      <td>NaN</td>\n",
              "      <td>0.0</td>\n",
              "      <td>0.0</td>\n",
              "      <td>0.0</td>\n",
              "      <td>0.0</td>\n",
              "      <td>-1106.0</td>\n",
              "      <td>0.0</td>\n",
              "      <td>0.0</td>\n",
              "      <td>0.0</td>\n",
              "      <td>0.0</td>\n",
              "      <td>0.0</td>\n",
              "      <td>0.0</td>\n",
              "      <td>1.0</td>\n",
              "      <td>0.0</td>\n",
              "      <td>0.0</td>\n",
              "      <td>0.0</td>\n",
              "      <td>0.0</td>\n",
              "      <td>0.0</td>\n",
              "      <td>0.0</td>\n",
              "      <td>0.0</td>\n",
              "      <td>0.0</td>\n",
              "      <td>0.0</td>\n",
              "      <td>0.0</td>\n",
              "      <td>0.0</td>\n",
              "      <td>0.0</td>\n",
              "      <td>0.0</td>\n",
              "      <td>0.0</td>\n",
              "      <td>0.0</td>\n",
              "      <td>0.0</td>\n",
              "      <td>0.0</td>\n",
              "      <td>0.0</td>\n",
              "      <td>0.0</td>\n",
              "    </tr>\n",
              "  </tbody>\n",
              "</table>\n",
              "<p>5 rows × 122 columns</p>\n",
              "</div>"
            ],
            "text/plain": [
              "   SK_ID_CURR  TARGET  ... AMT_REQ_CREDIT_BUREAU_QRT AMT_REQ_CREDIT_BUREAU_YEAR\n",
              "0      100002       1  ...                       0.0                        1.0\n",
              "1      100003       0  ...                       0.0                        0.0\n",
              "2      100004       0  ...                       0.0                        0.0\n",
              "3      100006       0  ...                       NaN                        NaN\n",
              "4      100007       0  ...                       0.0                        0.0\n",
              "\n",
              "[5 rows x 122 columns]"
            ]
          },
          "metadata": {
            "tags": []
          },
          "execution_count": 5
        }
      ]
    },
    {
      "cell_type": "code",
      "metadata": {
        "id": "RJNr6sD8diKK",
        "colab_type": "code",
        "colab": {}
      },
      "source": [
        "columns_without_id = [col for col in application.columns if col!='SK_ID_CURR']\n",
        "\n",
        "#Checking for duplicates in the data.\n",
        "application[application.duplicated(subset = columns_without_id, keep=False)]\n",
        "\n",
        "print('The no of duplicates in the data:',application[application.duplicated(subset = columns_without_id, keep=False)]\n",
        "      .shape[0])"
      ],
      "execution_count": 0,
      "outputs": []
    },
    {
      "cell_type": "markdown",
      "metadata": {
        "id": "hFTbYfIddiKi",
        "colab_type": "text"
      },
      "source": [
        "___"
      ]
    },
    {
      "cell_type": "markdown",
      "metadata": {
        "id": "jiKaeCjzdiKm",
        "colab_type": "text"
      },
      "source": [
        "## Distribution of data points among output class"
      ]
    },
    {
      "cell_type": "code",
      "metadata": {
        "id": "VcZ5BqQzdiKp",
        "colab_type": "code",
        "colab": {
          "base_uri": "https://localhost:8080/"
        },
        "outputId": "41bc6323-a20d-4d61-ddf0-4c1963c94ff1"
      },
      "source": [
        "cf.set_config_file(theme='polar')\n",
        "contract_val = application['NAME_CONTRACT_TYPE'].value_counts()\n",
        "contract_df = pd.DataFrame({'labels': contract_val.index,\n",
        "                   'values': contract_val.values\n",
        "                  })\n",
        "contract_df.iplot(kind='pie',labels='labels',values='values', title='Types of Loan', hole = 0.6)"
      ],
      "execution_count": 6,
      "outputs": [
        {
          "output_type": "display_data",
          "data": {
            "text/html": [
              "<div>\n",
              "        \n",
              "        \n",
              "            <div id=\"0e69c2b2-4de1-4ca4-98ff-e03bdcc2cfc1\" class=\"plotly-graph-div\" style=\"height:525px; width:100%;\"></div>\n",
              "            <script type=\"text/javascript\">\n",
              "                require([\"plotly\"], function(Plotly) {\n",
              "                    window.PLOTLYENV=window.PLOTLYENV || {};\n",
              "                    window.PLOTLYENV.BASE_URL='https://plot.ly';\n",
              "                    \n",
              "                if (document.getElementById(\"0e69c2b2-4de1-4ca4-98ff-e03bdcc2cfc1\")) {\n",
              "                    Plotly.newPlot(\n",
              "                        '0e69c2b2-4de1-4ca4-98ff-e03bdcc2cfc1',\n",
              "                        [{\"hole\": 0.6, \"labels\": [\"Cash loans\", \"Revolving loans\"], \"marker\": {\"colors\": [\"rgba(0, 128, 240, 1.0)\", \"rgba(238, 118, 0, 1.0)\"]}, \"name\": \"\", \"type\": \"pie\", \"values\": [254707, 26745]}],\n",
              "                        {\"legend\": {\"bgcolor\": \"#F2F3F7\", \"font\": {\"color\": \"#505050\"}}, \"paper_bgcolor\": \"#F2F3F7\", \"plot_bgcolor\": \"#F2F3F7\", \"title\": \"Types of Loan\", \"titlefont\": {\"color\": \"#484848\"}},\n",
              "                        {\"showLink\": true, \"linkText\": \"Export to plot.ly\", \"plotlyServerURL\": \"https://plot.ly\", \"responsive\": true}\n",
              "                    ).then(function(){\n",
              "                            \n",
              "var gd = document.getElementById('0e69c2b2-4de1-4ca4-98ff-e03bdcc2cfc1');\n",
              "var x = new MutationObserver(function (mutations, observer) {{\n",
              "        var display = window.getComputedStyle(gd).display;\n",
              "        if (!display || display === 'none') {{\n",
              "            console.log([gd, 'removed!']);\n",
              "            Plotly.purge(gd);\n",
              "            observer.disconnect();\n",
              "        }}\n",
              "}});\n",
              "\n",
              "// Listen for the removal of the full notebook cells\n",
              "var notebookContainer = gd.closest('#notebook-container');\n",
              "if (notebookContainer) {{\n",
              "    x.observe(notebookContainer, {childList: true});\n",
              "}}\n",
              "\n",
              "// Listen for the clearing of the current output cell\n",
              "var outputEl = gd.closest('.output');\n",
              "if (outputEl) {{\n",
              "    x.observe(outputEl, {childList: true});\n",
              "}}\n",
              "\n",
              "                        })\n",
              "                };\n",
              "                });\n",
              "            </script>\n",
              "        </div>"
            ],
            "application/vnd.plotly.v1+json": {
              "data": [
                {
                  "name": "",
                  "labels": [
                    "Cash loans",
                    "Revolving loans"
                  ],
                  "values": [
                    254707,
                    26745
                  ],
                  "marker": {
                    "colors": [
                      "rgba(0, 128, 240, 1.0)",
                      "rgba(238, 118, 0, 1.0)"
                    ]
                  },
                  "hole": 0.6,
                  "type": "pie"
                }
              ],
              "config": {
                "plotlyServerURL": "https://plot.ly",
                "linkText": "Export to plot.ly",
                "showLink": true
              },
              "layout": {
                "paper_bgcolor": "#F2F3F7",
                "plot_bgcolor": "#F2F3F7",
                "titlefont": {
                  "color": "#484848"
                },
                "legend": {
                  "bgcolor": "#F2F3F7",
                  "font": {
                    "color": "#505050"
                  }
                },
                "title": "Types of Loan"
              }
            }
          },
          "metadata": {
            "tags": []
          }
        }
      ]
    },
    {
      "cell_type": "markdown",
      "metadata": {
        "id": "HSilpdz7diK3",
        "colab_type": "text"
      },
      "source": [
        "#### Observations:\n",
        "1. The data is imbalanced (91.9%(Loan repayed-0) and 8.07%(Loan not repayed-1)) and we need to handle this problem."
      ]
    },
    {
      "cell_type": "markdown",
      "metadata": {
        "id": "aNBCXY3XdiK6",
        "colab_type": "text"
      },
      "source": [
        "### Distribution of AMT_INCOME_TOTAL."
      ]
    },
    {
      "cell_type": "code",
      "metadata": {
        "id": "s7z9K4podiK7",
        "colab_type": "code",
        "colab": {}
      },
      "source": [
        "application[application['AMT_INCOME_TOTAL'] < 2000000]['AMT_INCOME_TOTAL'].iplot(kind='histogram', bins=100,\n",
        "   xTitle = 'Total Income', yTitle ='Count of applicants',\n",
        "             title='Distribution of AMT_INCOME_TOTAL')"
      ],
      "execution_count": 0,
      "outputs": []
    },
    {
      "cell_type": "code",
      "metadata": {
        "id": "nqZVmU5ediLS",
        "colab_type": "code",
        "colab": {}
      },
      "source": [
        "(application[application['AMT_INCOME_TOTAL'] > 1000000]['TARGET'].value_counts())/len(application[application['AMT_INCOME_TOTAL'] > 1000000])*100"
      ],
      "execution_count": 0,
      "outputs": []
    },
    {
      "cell_type": "markdown",
      "metadata": {
        "id": "nc--CB03diLh",
        "colab_type": "text"
      },
      "source": [
        "### Observations:\n",
        "1. The distribution is right skewed and there are extreme values, we can apply log distribution.\n",
        "2. People with high income(>1000000) are likely to repay the loan."
      ]
    },
    {
      "cell_type": "markdown",
      "metadata": {
        "id": "6a-39LeqdiLu",
        "colab_type": "text"
      },
      "source": [
        "### Types of loan available."
      ]
    },
    {
      "cell_type": "code",
      "metadata": {
        "id": "6uZdglXsdiLw",
        "colab_type": "code",
        "colab": {}
      },
      "source": [
        "cf.set_config_file(theme='polar')\n",
        "contract_val = application['NAME_CONTRACT_TYPE'].value_counts()\n",
        "contract_df = pd.DataFrame({'labels': contract_val.index,\n",
        "                   'values': contract_val.values\n",
        "                  })\n",
        "contract_df.iplot(kind='pie',labels='labels',values='values', title='Types of Loan', hole = 0.6)"
      ],
      "execution_count": 0,
      "outputs": []
    },
    {
      "cell_type": "code",
      "metadata": {
        "id": "1kBUdPcudiL7",
        "colab_type": "code",
        "colab": {}
      },
      "source": [
        "cf.set_config_file(theme='polar')\n",
        "contract_val = application['NAME_CONTRACT_TYPE'].value_counts()\n",
        "contract_df = pd.DataFrame({'labels': contract_val.index,\n",
        "                   'values': contract_val.values\n",
        "                  })\n",
        "contract_df.iplot(kind='pie',labels='labels',values='values', title='Types of Loan', hole = 0.6)"
      ],
      "execution_count": 0,
      "outputs": []
    },
    {
      "cell_type": "markdown",
      "metadata": {
        "id": "Pw4obvpZdiMK",
        "colab_type": "text"
      },
      "source": [
        "### Observations:\n",
        "1. Many people are willing to take cash loan than revolving loan "
      ]
    },
    {
      "cell_type": "markdown",
      "metadata": {
        "id": "tpgt594qdiMM",
        "colab_type": "text"
      },
      "source": [
        "### Distribution of AMT_CREDIT"
      ]
    },
    {
      "cell_type": "code",
      "metadata": {
        "id": "-PHrribkdiMS",
        "colab_type": "code",
        "colab": {}
      },
      "source": [
        "application['AMT_CREDIT'].iplot(kind='histogram', bins=100,\n",
        "            xTitle = 'Credit Amount',yTitle ='Count of applicants',\n",
        "            title='Distribution of AMT_CREDIT')"
      ],
      "execution_count": 0,
      "outputs": []
    },
    {
      "cell_type": "code",
      "metadata": {
        "id": "_X1zWawLdiMr",
        "colab_type": "code",
        "colab": {}
      },
      "source": [
        "np.log(application['AMT_CREDIT']).iplot(kind='histogram', bins=100,\n",
        "        xTitle = 'log(Credit Amount)',yTitle ='Count of applicants',\n",
        "        title='Distribution of log(AMT_CREDIT)')"
      ],
      "execution_count": 0,
      "outputs": []
    },
    {
      "cell_type": "markdown",
      "metadata": {
        "id": "JKoX9PmxdiNW",
        "colab_type": "text"
      },
      "source": [
        "### Observations:\n",
        "1. People who are taking credit for large amount are very likely to repay the loan.\n",
        "2. Originally the distribution is right skewed, we used log transformation to make it normal distributed."
      ]
    },
    {
      "cell_type": "markdown",
      "metadata": {
        "id": "GfZJ7fg5diNa",
        "colab_type": "text"
      },
      "source": [
        "### Distribution of Name of type of the Suite in terms of loan is repayed or not."
      ]
    },
    {
      "cell_type": "code",
      "metadata": {
        "id": "MvTcs_PIdiNe",
        "colab_type": "code",
        "colab": {}
      },
      "source": [
        "cf.set_config_file(theme='polar')\n",
        "suite_val = (application['NAME_TYPE_SUITE'].value_counts()/len(application))*100\n",
        "suite_val.iplot(kind='bar', xTitle = 'Name of type of the Suite',\n",
        "             yTitle='Count of applicants in %',\n",
        "             title='Who accompanied client when applying for the  application in % ')\n",
        "\n"
      ],
      "execution_count": 0,
      "outputs": []
    },
    {
      "cell_type": "code",
      "metadata": {
        "id": "C1HRh6uPdiNq",
        "colab_type": "code",
        "colab": {}
      },
      "source": [
        "suite_val = application['NAME_TYPE_SUITE'].value_counts()\n",
        "\n",
        "\n",
        "suite_val_y0 = []\n",
        "suite_val_y1 = []\n",
        "for val in suite_val.index:\n",
        "    suite_val_y1.append(np.sum(application['TARGET'][application['NAME_TYPE_SUITE']==val] == 1))\n",
        "    suite_val_y0.append(np.sum(application['TARGET'][application['NAME_TYPE_SUITE']==val] == 0))\n",
        "    \n",
        "    \n",
        "data = [go.Bar(x = suite_val.index, y = ((suite_val_y1 / suite_val.sum()) * 100), name='Yes' ),\n",
        "        go.Bar(x = suite_val.index, y = ((suite_val_y0 / suite_val.sum()) * 100), name='No' )]\n",
        "\n",
        "\n",
        "layout = go.Layout(\n",
        "    title = \"Who accompanied client when applying for the  application in terms of loan is repayed or not in %\",\n",
        "    xaxis=dict(\n",
        "        title='Name of type of the Suite',\n",
        "       ),\n",
        "    yaxis=dict(\n",
        "        title='Count of applicants in %',\n",
        "        )\n",
        ")\n",
        "\n",
        "\n",
        "fig = go.Figure(data = data, layout=layout) \n",
        "fig.layout.template = 'ggplot2'\n",
        "py.iplot(fig)"
      ],
      "execution_count": 0,
      "outputs": []
    },
    {
      "cell_type": "markdown",
      "metadata": {
        "id": "mmqUtkoMdiNz",
        "colab_type": "text"
      },
      "source": [
        "### Distribution of Income sources of Applicants in terms of loan is repayed or not."
      ]
    },
    {
      "cell_type": "code",
      "metadata": {
        "id": "h2Uw0SL0diN8",
        "colab_type": "code",
        "colab": {}
      },
      "source": [
        "income_val = application['NAME_INCOME_TYPE'].value_counts()\n",
        "\n",
        "income_val_y0 = []\n",
        "income_val_y1 = []\n",
        "for val in income_val.index:\n",
        "    income_val_y1.append(np.sum(application['TARGET'][application['NAME_INCOME_TYPE']==val] == 1))\n",
        "    income_val_y0.append(np.sum(application['TARGET'][application['NAME_INCOME_TYPE']==val] == 0))\n",
        "\n",
        "\n",
        "data = [go.Bar(x = income_val.index, y = ((income_val_y1 / income_val.sum()) * 100), name='Yes' ),\n",
        "        go.Bar(x = income_val.index, y = ((income_val_y0 / income_val.sum()) * 100), name='No' )]\n",
        "\n",
        "\n",
        "layout = go.Layout(\n",
        "    title = \"Income sources of Applicants in terms of loan is repayed or not  in %\",\n",
        "    xaxis=dict(\n",
        "        title='Income source',\n",
        "       ),\n",
        "    yaxis=dict(\n",
        "        title='Count of applicants in %',\n",
        "        )\n",
        ")\n",
        "\n",
        "fig = go.Figure(data = data, layout=layout) \n",
        "fig.layout.template = 'ggplot2'\n",
        "py.iplot(fig)"
      ],
      "execution_count": 0,
      "outputs": []
    },
    {
      "cell_type": "markdown",
      "metadata": {
        "id": "2_A5uJqddiOJ",
        "colab_type": "text"
      },
      "source": [
        "### Observations:\n",
        "1. All the Students and Businessman are repaying loan.(Open the chart and hover over the plot to observe).\n",
        "\n",
        "\n",
        "## Distribution of Education of Applicants in terms of loan is repayed or not."
      ]
    },
    {
      "cell_type": "code",
      "metadata": {
        "id": "Gdx31x8OdiOK",
        "colab_type": "code",
        "colab": {}
      },
      "source": [
        "education_val = application['NAME_EDUCATION_TYPE'].value_counts()\n",
        "\n",
        "\n",
        "\n",
        "education_val_y0 = []\n",
        "education_val_y1 = []\n",
        "for val in education_val.index:\n",
        "    education_val_y1.append(np.sum(application['TARGET'][application['NAME_EDUCATION_TYPE']==val] == 1))\n",
        "    education_val_y0.append(np.sum(application['TARGET'][application['NAME_EDUCATION_TYPE']==val] == 0))\n",
        "    \n",
        "    \n",
        "data = [go.Bar(x = education_val.index, y = ((education_val_y1 / education_val.sum()) * 100), name='Yes' ),\n",
        "        go.Bar(x = education_val.index, y = ((education_val_y0 / education_val.sum()) * 100), name='No' )] \n",
        "\n",
        "\n",
        "layout = go.Layout(\n",
        "    title = \"Education sources of Applicants in terms of loan is repayed or not  in %\",\n",
        "    xaxis=dict(\n",
        "        title='Education of Applicants',\n",
        "       ),\n",
        "    yaxis=dict(\n",
        "        title='Count of applicants in %',\n",
        "        )\n",
        ")\n",
        "\n",
        "\n",
        "fig = go.Figure(data = data, layout=layout) \n",
        "fig.layout.template = 'ggplot2'\n",
        "py.iplot(fig)"
      ],
      "execution_count": 0,
      "outputs": []
    },
    {
      "cell_type": "markdown",
      "metadata": {
        "id": "CD_UFi6NdiOR",
        "colab_type": "text"
      },
      "source": [
        "### Observations:\n",
        "1. People with Academic Degree are more likely to repay the loan(Out of 164, only 3 applicants are not able to repay)\n",
        "\n",
        "## Distribution of Family status of Applicants in terms of loan is repayed or not."
      ]
    },
    {
      "cell_type": "code",
      "metadata": {
        "id": "bZwwq4EIdiOS",
        "colab_type": "code",
        "colab": {}
      },
      "source": [
        "family_val = application['NAME_FAMILY_STATUS'].value_counts()\n",
        "\n",
        "\n",
        "\n",
        "family_val_y0 = []\n",
        "family_val_y1 = []\n",
        "for val in family_val.index:\n",
        "    family_val_y1.append(np.sum(application['TARGET'][application['NAME_FAMILY_STATUS']==val] == 1))\n",
        "    family_val_y0.append(np.sum(application['TARGET'][application['NAME_FAMILY_STATUS']==val] == 0))\n",
        "    \n",
        "    \n",
        "data = [go.Bar(x = family_val.index, y = ((family_val_y1 / family_val.sum()) * 100), name='Yes' ),\n",
        "        go.Bar(x = family_val.index, y = ((family_val_y0 / family_val.sum()) * 100), name='No' )] \n",
        "\n",
        "\n",
        "layout = go.Layout(\n",
        "    title = \"Family status of Applicants in terms of loan is repayed or not %\",\n",
        "    xaxis=dict(\n",
        "        title='Family status',\n",
        "       ),\n",
        "    yaxis=dict(\n",
        "        title='Count of applicants in %',\n",
        "        )\n",
        ")\n",
        "\n",
        "\n",
        "fig = go.Figure(data = data, layout=layout) \n",
        "fig.layout.template = 'ggplot2'\n",
        "py.iplot(fig)"
      ],
      "execution_count": 0,
      "outputs": []
    },
    {
      "cell_type": "markdown",
      "metadata": {
        "id": "aztF00YfdiO4",
        "colab_type": "text"
      },
      "source": [
        "### Observations:\n",
        "1. Widows are more likely to repay the loan when compared to appliants with the other family statuses.\n",
        "\n",
        "## Distribution of Housing type of Applicants in terms of loan is repayed or not."
      ]
    },
    {
      "cell_type": "code",
      "metadata": {
        "id": "u7nM8OphdiO5",
        "colab_type": "code",
        "colab": {}
      },
      "source": [
        "house_val = application['NAME_HOUSING_TYPE'].value_counts()\n",
        "\n",
        "\n",
        "\n",
        "house_val_y0 = []\n",
        "house_val_y1 = []\n",
        "for val in house_val.index:\n",
        "    house_val_y1.append(np.sum(application['TARGET'][application['NAME_HOUSING_TYPE']==val] == 1))\n",
        "    house_val_y0.append(np.sum(application['TARGET'][application['NAME_HOUSING_TYPE']==val] == 0))\n",
        "    \n",
        "    \n",
        "data = [go.Bar(x = house_val.index, y = ((house_val_y1 / house_val.sum()) * 100), name='Yes' ),\n",
        "        go.Bar(x = house_val.index, y = ((house_val_y0 / house_val.sum()) * 100), name='No' )] \n",
        "\n",
        "\n",
        "layout = go.Layout(\n",
        "    title = \"Housing type of Applicants in terms of loan is repayed or not %\",\n",
        "    xaxis=dict(\n",
        "        title='Housing type',\n",
        "       ),\n",
        "    yaxis=dict(\n",
        "        title='Count of applicants in %',\n",
        "        )\n",
        ")\n",
        "\n",
        "\n",
        "fig = go.Figure(data = data, layout=layout) \n",
        "fig.layout.template = 'ggplot2'\n",
        "py.iplot(fig)"
      ],
      "execution_count": 0,
      "outputs": []
    },
    {
      "cell_type": "markdown",
      "metadata": {
        "id": "v6RprO7udiPC",
        "colab_type": "text"
      },
      "source": [
        "## Distribution of Clients Age"
      ]
    },
    {
      "cell_type": "code",
      "metadata": {
        "id": "ppcb5YXMdiPE",
        "colab_type": "code",
        "colab": {}
      },
      "source": [
        "cf.set_config_file(theme='pearl')\n",
        "(application['DAYS_BIRTH']/(-365)).iplot(kind='histogram', \n",
        "             xTitle = 'Age', bins=50,\n",
        "             yTitle='Count of type of applicants in %',\n",
        "             title='Distribution of Clients Age')"
      ],
      "execution_count": 0,
      "outputs": []
    },
    {
      "cell_type": "markdown",
      "metadata": {
        "id": "79u9ranydiPq",
        "colab_type": "text"
      },
      "source": [
        "## Distribution of years before the application the person started current employment."
      ]
    },
    {
      "cell_type": "code",
      "metadata": {
        "id": "4WWrHqfadiPt",
        "colab_type": "code",
        "colab": {}
      },
      "source": [
        "cf.set_config_file(theme='pearl')\n",
        "(application['DAYS_EMPLOYED']).iplot(kind='histogram', \n",
        "             xTitle = 'Days',bins=50,\n",
        "             yTitle='Count of applicants in %',\n",
        "             title='Days before the application the person started current employment')"
      ],
      "execution_count": 0,
      "outputs": []
    },
    {
      "cell_type": "markdown",
      "metadata": {
        "id": "AbMM7xncdiP-",
        "colab_type": "text"
      },
      "source": [
        "## Observations:\n",
        "1. The data looks strange(we have -1000.66 years(-365243 days) of employment which is impossible) looks like there is data entry error."
      ]
    },
    {
      "cell_type": "code",
      "metadata": {
        "id": "v4HkM1y8diQB",
        "colab_type": "code",
        "colab": {}
      },
      "source": [
        "error = application[application['DAYS_EMPLOYED'] == 365243]\n",
        "print('The no of errors are :', len(error))\n",
        "(error['TARGET'].value_counts()/len(error))*100"
      ],
      "execution_count": 0,
      "outputs": []
    },
    {
      "cell_type": "code",
      "metadata": {
        "id": "VMl51ZGgdiQL",
        "colab_type": "code",
        "colab": {}
      },
      "source": [
        "# Create an error flag column\n",
        "application['DAYS_EMPLOYED_ERROR'] = application[\"DAYS_EMPLOYED\"] == 365243# Replace the error values with nan\n",
        "application['DAYS_EMPLOYED'].replace({365243: np.nan}, inplace = True)"
      ],
      "execution_count": 0,
      "outputs": []
    },
    {
      "cell_type": "markdown",
      "metadata": {
        "id": "qS4xYCX1diQU",
        "colab_type": "text"
      },
      "source": [
        "### Created a seperate column ‘DAYS_EMPLOYED_ERROR’, which flags the error."
      ]
    },
    {
      "cell_type": "code",
      "metadata": {
        "id": "fHQiu41QdiQV",
        "colab_type": "code",
        "colab": {}
      },
      "source": [
        "cf.set_config_file(theme='pearl')\n",
        "(application['DAYS_EMPLOYED']/(-365)).iplot(kind='histogram', xTitle = 'Years of Employment',bins=50,\n",
        "             yTitle='Count of applicants in %',\n",
        "             title='Years before the application the person started current employment')"
      ],
      "execution_count": 0,
      "outputs": []
    },
    {
      "cell_type": "code",
      "metadata": {
        "id": "jC1ub1uxdiRF",
        "colab_type": "code",
        "colab": {}
      },
      "source": [
        "application[application['DAYS_EMPLOYED']>(-365*2)]['TARGET'].value_counts()/sum(application['DAYS_EMPLOYED']>(-365*2))"
      ],
      "execution_count": 0,
      "outputs": []
    },
    {
      "cell_type": "markdown",
      "metadata": {
        "id": "AAIqwbfsdiRP",
        "colab_type": "text"
      },
      "source": [
        "### Observations:\n",
        "1. The applicants with less than 2 years of employment are less likely to repay the loan."
      ]
    },
    {
      "cell_type": "markdown",
      "metadata": {
        "id": "3_EdkymOdiRT",
        "colab_type": "text"
      },
      "source": [
        "______"
      ]
    },
    {
      "cell_type": "markdown",
      "metadata": {
        "id": "PFGUUDQSdiRW",
        "colab_type": "text"
      },
      "source": [
        "## Data Preparation:\n",
        "\n",
        "### Feature Engineering of Application data:"
      ]
    },
    {
      "cell_type": "code",
      "metadata": {
        "id": "eZR15o5MdiRY",
        "colab_type": "code",
        "colab": {}
      },
      "source": [
        "# Flag to represent when Total income is greater than Credit\n",
        "application['INCOME_GT_CREDIT_FLAG'] = application['AMT_INCOME_TOTAL'] > application['AMT_CREDIT']"
      ],
      "execution_count": 0,
      "outputs": []
    },
    {
      "cell_type": "code",
      "metadata": {
        "id": "RrKKw1wSdiRh",
        "colab_type": "code",
        "colab": {}
      },
      "source": [
        "# Column to represent Credit Income Percent\n",
        "application['CREDIT_INCOME_PERCENT'] = application['AMT_CREDIT'] / application['AMT_INCOME_TOTAL']"
      ],
      "execution_count": 0,
      "outputs": []
    },
    {
      "cell_type": "code",
      "metadata": {
        "id": "Y4gvyKIDdiRu",
        "colab_type": "code",
        "colab": {}
      },
      "source": [
        "# Column to represent Annuity Income percent\n",
        "application['ANNUITY_INCOME_PERCENT'] = application['AMT_ANNUITY'] / application['AMT_INCOME_TOTAL']"
      ],
      "execution_count": 0,
      "outputs": []
    },
    {
      "cell_type": "code",
      "metadata": {
        "id": "5tdTHxGJdiR3",
        "colab_type": "code",
        "colab": {}
      },
      "source": [
        "# Column to represent Credit Term\n",
        "application['CREDIT_TERM'] = application['AMT_CREDIT'] / application['AMT_ANNUITY'] "
      ],
      "execution_count": 0,
      "outputs": []
    },
    {
      "cell_type": "code",
      "metadata": {
        "id": "tLDZirZodiR_",
        "colab_type": "code",
        "colab": {}
      },
      "source": [
        "# Column to represent Days Employed percent in his life\n",
        "application['DAYS_EMPLOYED_PERCENT'] = application['DAYS_EMPLOYED'] / application['DAYS_BIRTH']"
      ],
      "execution_count": 0,
      "outputs": []
    },
    {
      "cell_type": "code",
      "metadata": {
        "id": "YP6Vo_lzdiSL",
        "colab_type": "code",
        "colab": {
          "base_uri": "https://localhost:8080/",
          "height": 35
        },
        "outputId": "e3024333-dd73-4f8e-d988-e66147f52f3e"
      },
      "source": [
        "# Shape of Application data\n",
        "print(\"The shape of application data:\",application.shape)"
      ],
      "execution_count": 12,
      "outputs": [
        {
          "output_type": "stream",
          "text": [
            "The shape of application data: (281452, 127)\n"
          ],
          "name": "stdout"
        }
      ]
    },
    {
      "cell_type": "markdown",
      "metadata": {
        "id": "r4veKs-2diSV",
        "colab_type": "text"
      },
      "source": [
        "### Using Bureau Data:"
      ]
    },
    {
      "cell_type": "code",
      "metadata": {
        "id": "I60MIGJvdiSW",
        "colab_type": "code",
        "colab": {
          "base_uri": "https://localhost:8080/",
          "height": 333
        },
        "outputId": "f1ba36ac-6ea4-466c-9769-de9bd73fae52"
      },
      "source": [
        "print('Reading the data....', end='')\n",
        "bureau = pd.read_csv('bureau.csv')\n",
        "print('done!!!')\n",
        "print('The shape of data:',bureau.shape)\n",
        "print('First 5 rows of data:')\n",
        "bureau.head()"
      ],
      "execution_count": 13,
      "outputs": [
        {
          "output_type": "stream",
          "text": [
            "Reading the data....done!!!\n",
            "The shape of data: (1661958, 17)\n",
            "First 5 rows of data:\n"
          ],
          "name": "stdout"
        },
        {
          "output_type": "execute_result",
          "data": {
            "text/html": [
              "<div>\n",
              "<style scoped>\n",
              "    .dataframe tbody tr th:only-of-type {\n",
              "        vertical-align: middle;\n",
              "    }\n",
              "\n",
              "    .dataframe tbody tr th {\n",
              "        vertical-align: top;\n",
              "    }\n",
              "\n",
              "    .dataframe thead th {\n",
              "        text-align: right;\n",
              "    }\n",
              "</style>\n",
              "<table border=\"1\" class=\"dataframe\">\n",
              "  <thead>\n",
              "    <tr style=\"text-align: right;\">\n",
              "      <th></th>\n",
              "      <th>SK_ID_CURR</th>\n",
              "      <th>SK_ID_BUREAU</th>\n",
              "      <th>CREDIT_ACTIVE</th>\n",
              "      <th>CREDIT_CURRENCY</th>\n",
              "      <th>DAYS_CREDIT</th>\n",
              "      <th>CREDIT_DAY_OVERDUE</th>\n",
              "      <th>DAYS_CREDIT_ENDDATE</th>\n",
              "      <th>DAYS_ENDDATE_FACT</th>\n",
              "      <th>AMT_CREDIT_MAX_OVERDUE</th>\n",
              "      <th>CNT_CREDIT_PROLONG</th>\n",
              "      <th>AMT_CREDIT_SUM</th>\n",
              "      <th>AMT_CREDIT_SUM_DEBT</th>\n",
              "      <th>AMT_CREDIT_SUM_LIMIT</th>\n",
              "      <th>AMT_CREDIT_SUM_OVERDUE</th>\n",
              "      <th>CREDIT_TYPE</th>\n",
              "      <th>DAYS_CREDIT_UPDATE</th>\n",
              "      <th>AMT_ANNUITY</th>\n",
              "    </tr>\n",
              "  </thead>\n",
              "  <tbody>\n",
              "    <tr>\n",
              "      <th>0</th>\n",
              "      <td>215354</td>\n",
              "      <td>5714462</td>\n",
              "      <td>Closed</td>\n",
              "      <td>currency 1</td>\n",
              "      <td>-497</td>\n",
              "      <td>0</td>\n",
              "      <td>-153.0</td>\n",
              "      <td>-153.0</td>\n",
              "      <td>NaN</td>\n",
              "      <td>0</td>\n",
              "      <td>91323.0</td>\n",
              "      <td>0.0</td>\n",
              "      <td>NaN</td>\n",
              "      <td>0.0</td>\n",
              "      <td>Consumer credit</td>\n",
              "      <td>-131.0</td>\n",
              "      <td>NaN</td>\n",
              "    </tr>\n",
              "    <tr>\n",
              "      <th>1</th>\n",
              "      <td>215354</td>\n",
              "      <td>5714463</td>\n",
              "      <td>Active</td>\n",
              "      <td>currency 1</td>\n",
              "      <td>-208</td>\n",
              "      <td>0</td>\n",
              "      <td>1075.0</td>\n",
              "      <td>NaN</td>\n",
              "      <td>NaN</td>\n",
              "      <td>0</td>\n",
              "      <td>225000.0</td>\n",
              "      <td>171342.0</td>\n",
              "      <td>NaN</td>\n",
              "      <td>0.0</td>\n",
              "      <td>Credit card</td>\n",
              "      <td>-20.0</td>\n",
              "      <td>NaN</td>\n",
              "    </tr>\n",
              "    <tr>\n",
              "      <th>2</th>\n",
              "      <td>215354</td>\n",
              "      <td>5714464</td>\n",
              "      <td>Active</td>\n",
              "      <td>currency 1</td>\n",
              "      <td>-203</td>\n",
              "      <td>0</td>\n",
              "      <td>528.0</td>\n",
              "      <td>NaN</td>\n",
              "      <td>NaN</td>\n",
              "      <td>0</td>\n",
              "      <td>464323.5</td>\n",
              "      <td>NaN</td>\n",
              "      <td>NaN</td>\n",
              "      <td>0.0</td>\n",
              "      <td>Consumer credit</td>\n",
              "      <td>-16.0</td>\n",
              "      <td>NaN</td>\n",
              "    </tr>\n",
              "    <tr>\n",
              "      <th>3</th>\n",
              "      <td>215354</td>\n",
              "      <td>5714465</td>\n",
              "      <td>Active</td>\n",
              "      <td>currency 1</td>\n",
              "      <td>-203</td>\n",
              "      <td>0</td>\n",
              "      <td>NaN</td>\n",
              "      <td>NaN</td>\n",
              "      <td>NaN</td>\n",
              "      <td>0</td>\n",
              "      <td>90000.0</td>\n",
              "      <td>NaN</td>\n",
              "      <td>NaN</td>\n",
              "      <td>0.0</td>\n",
              "      <td>Credit card</td>\n",
              "      <td>-16.0</td>\n",
              "      <td>NaN</td>\n",
              "    </tr>\n",
              "    <tr>\n",
              "      <th>4</th>\n",
              "      <td>215354</td>\n",
              "      <td>5714466</td>\n",
              "      <td>Active</td>\n",
              "      <td>currency 1</td>\n",
              "      <td>-629</td>\n",
              "      <td>0</td>\n",
              "      <td>1197.0</td>\n",
              "      <td>NaN</td>\n",
              "      <td>77674.5</td>\n",
              "      <td>0</td>\n",
              "      <td>2700000.0</td>\n",
              "      <td>NaN</td>\n",
              "      <td>NaN</td>\n",
              "      <td>0.0</td>\n",
              "      <td>Consumer credit</td>\n",
              "      <td>-21.0</td>\n",
              "      <td>NaN</td>\n",
              "    </tr>\n",
              "  </tbody>\n",
              "</table>\n",
              "</div>"
            ],
            "text/plain": [
              "   SK_ID_CURR  SK_ID_BUREAU  ... DAYS_CREDIT_UPDATE AMT_ANNUITY\n",
              "0      215354       5714462  ...             -131.0         NaN\n",
              "1      215354       5714463  ...              -20.0         NaN\n",
              "2      215354       5714464  ...              -16.0         NaN\n",
              "3      215354       5714465  ...              -16.0         NaN\n",
              "4      215354       5714466  ...              -21.0         NaN\n",
              "\n",
              "[5 rows x 17 columns]"
            ]
          },
          "metadata": {
            "tags": []
          },
          "execution_count": 13
        }
      ]
    },
    {
      "cell_type": "markdown",
      "metadata": {
        "id": "Iy3J7ft8diSf",
        "colab_type": "text"
      },
      "source": [
        "### Joining Bureau data to Application data:"
      ]
    },
    {
      "cell_type": "code",
      "metadata": {
        "id": "VnW4ob5LdiSh",
        "colab_type": "code",
        "colab": {}
      },
      "source": [
        "# Combining numerical features\n",
        "grp = bureau.drop(['SK_ID_BUREAU'], axis = 1).groupby(by=['SK_ID_CURR']).mean().reset_index()\n",
        "grp.columns = ['BUREAU_'+column if column !='SK_ID_CURR' else column for column in grp.columns]\n",
        "application_bureau = application.merge(grp, on='SK_ID_CURR', how='left')\n",
        "application_bureau.update(application_bureau[grp.columns].fillna(0))"
      ],
      "execution_count": 0,
      "outputs": []
    },
    {
      "cell_type": "code",
      "metadata": {
        "id": "6tjCipRydiSn",
        "colab_type": "code",
        "colab": {}
      },
      "source": [
        "# Combining categorical features\n",
        "bureau_categorical = pd.get_dummies(bureau.select_dtypes('object'))\n",
        "bureau_categorical['SK_ID_CURR'] = bureau['SK_ID_CURR']"
      ],
      "execution_count": 0,
      "outputs": []
    },
    {
      "cell_type": "code",
      "metadata": {
        "id": "u7UcdqvJdiSt",
        "colab_type": "code",
        "colab": {}
      },
      "source": [
        "grp = bureau_categorical.groupby(by = ['SK_ID_CURR']).mean().reset_index()\n",
        "grp.columns = ['BUREAU_'+column if column !='SK_ID_CURR' else column for column in grp.columns]\n",
        "application_bureau = application_bureau.merge(grp, on='SK_ID_CURR', how='left')\n",
        "application_bureau.update(application_bureau[grp.columns].fillna(0))"
      ],
      "execution_count": 0,
      "outputs": []
    },
    {
      "cell_type": "code",
      "metadata": {
        "id": "XqdKd840diS2",
        "colab_type": "code",
        "colab": {
          "base_uri": "https://localhost:8080/",
          "height": 35
        },
        "outputId": "47cd5e5a-6058-475c-b977-1665fcb55dbd"
      },
      "source": [
        "# Shape of application and bureau data combined\n",
        "print('The shape application and bureau data combined:',application_bureau.shape)"
      ],
      "execution_count": 17,
      "outputs": [
        {
          "output_type": "stream",
          "text": [
            "The shape application and bureau data combined: (281452, 163)\n"
          ],
          "name": "stdout"
        }
      ]
    },
    {
      "cell_type": "markdown",
      "metadata": {
        "id": "RfEFWZu_diS8",
        "colab_type": "text"
      },
      "source": [
        "### Feature Engineering of Bureau Data:"
      ]
    },
    {
      "cell_type": "code",
      "metadata": {
        "id": "RvYuV7bNdiS9",
        "colab_type": "code",
        "colab": {}
      },
      "source": [
        "# Number of past loans per customer\n",
        "grp = bureau.groupby(by = ['SK_ID_CURR'])['SK_ID_BUREAU'].count().reset_index().rename(columns = {'SK_ID_BUREAU': 'BUREAU_LOAN_COUNT'})"
      ],
      "execution_count": 0,
      "outputs": []
    },
    {
      "cell_type": "code",
      "metadata": {
        "id": "cMf64BlkdiTD",
        "colab_type": "code",
        "colab": {}
      },
      "source": [
        "application_bureau = application_bureau.merge(grp, on='SK_ID_CURR', how='left')\n",
        "application_bureau['BUREAU_LOAN_COUNT'] = application_bureau['BUREAU_LOAN_COUNT'].fillna(0)"
      ],
      "execution_count": 0,
      "outputs": []
    },
    {
      "cell_type": "code",
      "metadata": {
        "id": "csyqmzGRdiTI",
        "colab_type": "code",
        "colab": {}
      },
      "source": [
        "# Number of types of past loans per customer \n",
        "grp = bureau[['SK_ID_CURR', 'CREDIT_TYPE']].groupby(by = ['SK_ID_CURR'])['CREDIT_TYPE'].nunique().reset_index().rename(columns={'CREDIT_TYPE': 'BUREAU_LOAN_TYPES'})"
      ],
      "execution_count": 0,
      "outputs": []
    },
    {
      "cell_type": "code",
      "metadata": {
        "id": "Ty8Cj23UdiTu",
        "colab_type": "code",
        "colab": {}
      },
      "source": [
        "application_bureau = application_bureau.merge(grp, on='SK_ID_CURR', how='left')\n",
        "application_bureau['BUREAU_LOAN_TYPES'] = application_bureau['BUREAU_LOAN_TYPES'].fillna(0)"
      ],
      "execution_count": 0,
      "outputs": []
    },
    {
      "cell_type": "code",
      "metadata": {
        "id": "WHreSNyBdiT4",
        "colab_type": "code",
        "colab": {}
      },
      "source": [
        "# Debt over credit ratio \n",
        "bureau['AMT_CREDIT_SUM'] = bureau['AMT_CREDIT_SUM'].fillna(0)\n",
        "bureau['AMT_CREDIT_SUM_DEBT'] = bureau['AMT_CREDIT_SUM_DEBT'].fillna(0)"
      ],
      "execution_count": 0,
      "outputs": []
    },
    {
      "cell_type": "code",
      "metadata": {
        "id": "TaCJ8AG5diUN",
        "colab_type": "code",
        "colab": {}
      },
      "source": [
        "grp1 = bureau[['SK_ID_CURR','AMT_CREDIT_SUM']].groupby(by=['SK_ID_CURR'])['AMT_CREDIT_SUM'].sum().reset_index().rename(columns={'AMT_CREDIT_SUM': 'TOTAL_CREDIT_SUM'})"
      ],
      "execution_count": 0,
      "outputs": []
    },
    {
      "cell_type": "code",
      "metadata": {
        "id": "e-bmfyJ_diUT",
        "colab_type": "code",
        "colab": {}
      },
      "source": [
        "grp2 = bureau[['SK_ID_CURR','AMT_CREDIT_SUM_DEBT']].groupby(by=['SK_ID_CURR'])['AMT_CREDIT_SUM_DEBT'].sum().reset_index().rename(columns={'AMT_CREDIT_SUM_DEBT':'TOTAL_CREDIT_SUM_DEBT'})"
      ],
      "execution_count": 0,
      "outputs": []
    },
    {
      "cell_type": "code",
      "metadata": {
        "id": "qUG5g8CudiUY",
        "colab_type": "code",
        "colab": {}
      },
      "source": [
        "grp1['DEBT_CREDIT_RATIO'] = grp2['TOTAL_CREDIT_SUM_DEBT'] / grp1['TOTAL_CREDIT_SUM']\n",
        "\n",
        "del grp1['TOTAL_CREDIT_SUM']"
      ],
      "execution_count": 0,
      "outputs": []
    },
    {
      "cell_type": "code",
      "metadata": {
        "id": "0d_R77V8diUe",
        "colab_type": "code",
        "colab": {}
      },
      "source": [
        "application_bureau = application_bureau.merge(grp1, on='SK_ID_CURR', how='left')\n",
        "application_bureau['DEBT_CREDIT_RATIO'] = application_bureau['DEBT_CREDIT_RATIO'].fillna(0)\n",
        "application_bureau['DEBT_CREDIT_RATIO'] = application_bureau.replace([np.inf, -np.inf], 0)\n",
        "application_bureau['DEBT_CREDIT_RATIO'] = pd.to_numeric(application_bureau['DEBT_CREDIT_RATIO'], downcast='float')"
      ],
      "execution_count": 0,
      "outputs": []
    },
    {
      "cell_type": "code",
      "metadata": {
        "id": "kbxTN4WzdiUm",
        "colab_type": "code",
        "colab": {}
      },
      "source": [
        "# Overdue over debt ratio\n",
        "bureau['AMT_CREDIT_SUM_OVERDUE'] = bureau['AMT_CREDIT_SUM_OVERDUE'].fillna(0)\n",
        "bureau['AMT_CREDIT_SUM_DEBT'] = bureau['AMT_CREDIT_SUM_DEBT'].fillna(0)"
      ],
      "execution_count": 0,
      "outputs": []
    },
    {
      "cell_type": "code",
      "metadata": {
        "id": "XWUTXsn5diUs",
        "colab_type": "code",
        "colab": {}
      },
      "source": [
        "grp1 = bureau[['SK_ID_CURR','AMT_CREDIT_SUM_OVERDUE']].groupby(by=['SK_ID_CURR'])['AMT_CREDIT_SUM_OVERDUE'].sum().reset_index().rename(columns={'AMT_CREDIT_SUM_OVERDUE': 'TOTAL_CUSTOMER_OVERDUE'})"
      ],
      "execution_count": 0,
      "outputs": []
    },
    {
      "cell_type": "code",
      "metadata": {
        "id": "Fe0wz1V3diU1",
        "colab_type": "code",
        "colab": {}
      },
      "source": [
        "grp2 = bureau[['SK_ID_CURR','AMT_CREDIT_SUM_DEBT']].groupby(by=['SK_ID_CURR'])['AMT_CREDIT_SUM_DEBT'].sum().reset_index().rename(columns={'AMT_CREDIT_SUM_DEBT':'TOTAL_CUSTOMER_DEBT'})"
      ],
      "execution_count": 0,
      "outputs": []
    },
    {
      "cell_type": "code",
      "metadata": {
        "id": "m302z_5OdiU6",
        "colab_type": "code",
        "colab": {}
      },
      "source": [
        "grp1['OVERDUE_DEBT_RATIO'] = grp1['TOTAL_CUSTOMER_OVERDUE']/grp2['TOTAL_CUSTOMER_DEBT']\n",
        "\n",
        "del grp1['TOTAL_CUSTOMER_OVERDUE']"
      ],
      "execution_count": 0,
      "outputs": []
    },
    {
      "cell_type": "code",
      "metadata": {
        "id": "6xDqgpFMdiVP",
        "colab_type": "code",
        "colab": {}
      },
      "source": [
        "application_bureau = application_bureau.merge(grp1, on='SK_ID_CURR', how='left')\n",
        "application_bureau['OVERDUE_DEBT_RATIO'] = application_bureau['OVERDUE_DEBT_RATIO'].fillna(0)\n",
        "application_bureau['OVERDUE_DEBT_RATIO'] = application_bureau.replace([np.inf, -np.inf], 0)"
      ],
      "execution_count": 0,
      "outputs": []
    },
    {
      "cell_type": "code",
      "metadata": {
        "id": "sYFR-quWdiVY",
        "colab_type": "code",
        "colab": {}
      },
      "source": [
        "application_bureau['OVERDUE_DEBT_RATIO'] = pd.to_numeric(application_bureau['OVERDUE_DEBT_RATIO'], downcast='float')"
      ],
      "execution_count": 0,
      "outputs": []
    },
    {
      "cell_type": "markdown",
      "metadata": {
        "id": "ROy7nvmIdiVh",
        "colab_type": "text"
      },
      "source": [
        "### Using Previous Application Data:"
      ]
    },
    {
      "cell_type": "code",
      "metadata": {
        "id": "g033VNMvdiVi",
        "colab_type": "code",
        "colab": {
          "base_uri": "https://localhost:8080/"
        },
        "outputId": "7e4b9573-9695-47ee-c0eb-3dab19a10658"
      },
      "source": [
        "print('Reading the data....', end='')\n",
        "previous_applicaton = pd.read_csv('previous_application.csv')\n",
        "print('done!!!')\n",
        "print('The shape of data:',previous_applicaton.shape)\n",
        "print('First 5 rows of data:')\n",
        "previous_applicaton.head()"
      ],
      "execution_count": 33,
      "outputs": [
        {
          "output_type": "stream",
          "text": [
            "Reading the data....done!!!\n",
            "The shape of data: (694416, 37)\n",
            "First 5 rows of data:\n"
          ],
          "name": "stdout"
        },
        {
          "output_type": "execute_result",
          "data": {
            "text/html": [
              "<div>\n",
              "<style scoped>\n",
              "    .dataframe tbody tr th:only-of-type {\n",
              "        vertical-align: middle;\n",
              "    }\n",
              "\n",
              "    .dataframe tbody tr th {\n",
              "        vertical-align: top;\n",
              "    }\n",
              "\n",
              "    .dataframe thead th {\n",
              "        text-align: right;\n",
              "    }\n",
              "</style>\n",
              "<table border=\"1\" class=\"dataframe\">\n",
              "  <thead>\n",
              "    <tr style=\"text-align: right;\">\n",
              "      <th></th>\n",
              "      <th>SK_ID_PREV</th>\n",
              "      <th>SK_ID_CURR</th>\n",
              "      <th>NAME_CONTRACT_TYPE</th>\n",
              "      <th>AMT_ANNUITY</th>\n",
              "      <th>AMT_APPLICATION</th>\n",
              "      <th>AMT_CREDIT</th>\n",
              "      <th>AMT_DOWN_PAYMENT</th>\n",
              "      <th>AMT_GOODS_PRICE</th>\n",
              "      <th>WEEKDAY_APPR_PROCESS_START</th>\n",
              "      <th>HOUR_APPR_PROCESS_START</th>\n",
              "      <th>FLAG_LAST_APPL_PER_CONTRACT</th>\n",
              "      <th>NFLAG_LAST_APPL_IN_DAY</th>\n",
              "      <th>RATE_DOWN_PAYMENT</th>\n",
              "      <th>RATE_INTEREST_PRIMARY</th>\n",
              "      <th>RATE_INTEREST_PRIVILEGED</th>\n",
              "      <th>NAME_CASH_LOAN_PURPOSE</th>\n",
              "      <th>NAME_CONTRACT_STATUS</th>\n",
              "      <th>DAYS_DECISION</th>\n",
              "      <th>NAME_PAYMENT_TYPE</th>\n",
              "      <th>CODE_REJECT_REASON</th>\n",
              "      <th>NAME_TYPE_SUITE</th>\n",
              "      <th>NAME_CLIENT_TYPE</th>\n",
              "      <th>NAME_GOODS_CATEGORY</th>\n",
              "      <th>NAME_PORTFOLIO</th>\n",
              "      <th>NAME_PRODUCT_TYPE</th>\n",
              "      <th>CHANNEL_TYPE</th>\n",
              "      <th>SELLERPLACE_AREA</th>\n",
              "      <th>NAME_SELLER_INDUSTRY</th>\n",
              "      <th>CNT_PAYMENT</th>\n",
              "      <th>NAME_YIELD_GROUP</th>\n",
              "      <th>PRODUCT_COMBINATION</th>\n",
              "      <th>DAYS_FIRST_DRAWING</th>\n",
              "      <th>DAYS_FIRST_DUE</th>\n",
              "      <th>DAYS_LAST_DUE_1ST_VERSION</th>\n",
              "      <th>DAYS_LAST_DUE</th>\n",
              "      <th>DAYS_TERMINATION</th>\n",
              "      <th>NFLAG_INSURED_ON_APPROVAL</th>\n",
              "    </tr>\n",
              "  </thead>\n",
              "  <tbody>\n",
              "    <tr>\n",
              "      <th>0</th>\n",
              "      <td>2030495</td>\n",
              "      <td>271877</td>\n",
              "      <td>Consumer loans</td>\n",
              "      <td>1730.430</td>\n",
              "      <td>17145.0</td>\n",
              "      <td>17145.0</td>\n",
              "      <td>0.0</td>\n",
              "      <td>17145.0</td>\n",
              "      <td>SATURDAY</td>\n",
              "      <td>15</td>\n",
              "      <td>Y</td>\n",
              "      <td>1</td>\n",
              "      <td>0.0</td>\n",
              "      <td>0.182832</td>\n",
              "      <td>0.867336</td>\n",
              "      <td>XAP</td>\n",
              "      <td>Approved</td>\n",
              "      <td>-73</td>\n",
              "      <td>Cash through the bank</td>\n",
              "      <td>XAP</td>\n",
              "      <td>NaN</td>\n",
              "      <td>Repeater</td>\n",
              "      <td>Mobile</td>\n",
              "      <td>POS</td>\n",
              "      <td>XNA</td>\n",
              "      <td>Country-wide</td>\n",
              "      <td>35</td>\n",
              "      <td>Connectivity</td>\n",
              "      <td>12.0</td>\n",
              "      <td>middle</td>\n",
              "      <td>POS mobile with interest</td>\n",
              "      <td>365243.0</td>\n",
              "      <td>-42.0</td>\n",
              "      <td>300.0</td>\n",
              "      <td>-42.0</td>\n",
              "      <td>-37.0</td>\n",
              "      <td>0.0</td>\n",
              "    </tr>\n",
              "    <tr>\n",
              "      <th>1</th>\n",
              "      <td>2802425</td>\n",
              "      <td>108129</td>\n",
              "      <td>Cash loans</td>\n",
              "      <td>25188.615</td>\n",
              "      <td>607500.0</td>\n",
              "      <td>679671.0</td>\n",
              "      <td>NaN</td>\n",
              "      <td>607500.0</td>\n",
              "      <td>THURSDAY</td>\n",
              "      <td>11</td>\n",
              "      <td>Y</td>\n",
              "      <td>1</td>\n",
              "      <td>NaN</td>\n",
              "      <td>NaN</td>\n",
              "      <td>NaN</td>\n",
              "      <td>XNA</td>\n",
              "      <td>Approved</td>\n",
              "      <td>-164</td>\n",
              "      <td>XNA</td>\n",
              "      <td>XAP</td>\n",
              "      <td>Unaccompanied</td>\n",
              "      <td>Repeater</td>\n",
              "      <td>XNA</td>\n",
              "      <td>Cash</td>\n",
              "      <td>x-sell</td>\n",
              "      <td>Contact center</td>\n",
              "      <td>-1</td>\n",
              "      <td>XNA</td>\n",
              "      <td>36.0</td>\n",
              "      <td>low_action</td>\n",
              "      <td>Cash X-Sell: low</td>\n",
              "      <td>365243.0</td>\n",
              "      <td>-134.0</td>\n",
              "      <td>916.0</td>\n",
              "      <td>365243.0</td>\n",
              "      <td>365243.0</td>\n",
              "      <td>1.0</td>\n",
              "    </tr>\n",
              "    <tr>\n",
              "      <th>2</th>\n",
              "      <td>2523466</td>\n",
              "      <td>122040</td>\n",
              "      <td>Cash loans</td>\n",
              "      <td>15060.735</td>\n",
              "      <td>112500.0</td>\n",
              "      <td>136444.5</td>\n",
              "      <td>NaN</td>\n",
              "      <td>112500.0</td>\n",
              "      <td>TUESDAY</td>\n",
              "      <td>11</td>\n",
              "      <td>Y</td>\n",
              "      <td>1</td>\n",
              "      <td>NaN</td>\n",
              "      <td>NaN</td>\n",
              "      <td>NaN</td>\n",
              "      <td>XNA</td>\n",
              "      <td>Approved</td>\n",
              "      <td>-301</td>\n",
              "      <td>Cash through the bank</td>\n",
              "      <td>XAP</td>\n",
              "      <td>Spouse, partner</td>\n",
              "      <td>Repeater</td>\n",
              "      <td>XNA</td>\n",
              "      <td>Cash</td>\n",
              "      <td>x-sell</td>\n",
              "      <td>Credit and cash offices</td>\n",
              "      <td>-1</td>\n",
              "      <td>XNA</td>\n",
              "      <td>12.0</td>\n",
              "      <td>high</td>\n",
              "      <td>Cash X-Sell: high</td>\n",
              "      <td>365243.0</td>\n",
              "      <td>-271.0</td>\n",
              "      <td>59.0</td>\n",
              "      <td>365243.0</td>\n",
              "      <td>365243.0</td>\n",
              "      <td>1.0</td>\n",
              "    </tr>\n",
              "    <tr>\n",
              "      <th>3</th>\n",
              "      <td>2819243</td>\n",
              "      <td>176158</td>\n",
              "      <td>Cash loans</td>\n",
              "      <td>47041.335</td>\n",
              "      <td>450000.0</td>\n",
              "      <td>470790.0</td>\n",
              "      <td>NaN</td>\n",
              "      <td>450000.0</td>\n",
              "      <td>MONDAY</td>\n",
              "      <td>7</td>\n",
              "      <td>Y</td>\n",
              "      <td>1</td>\n",
              "      <td>NaN</td>\n",
              "      <td>NaN</td>\n",
              "      <td>NaN</td>\n",
              "      <td>XNA</td>\n",
              "      <td>Approved</td>\n",
              "      <td>-512</td>\n",
              "      <td>Cash through the bank</td>\n",
              "      <td>XAP</td>\n",
              "      <td>NaN</td>\n",
              "      <td>Repeater</td>\n",
              "      <td>XNA</td>\n",
              "      <td>Cash</td>\n",
              "      <td>x-sell</td>\n",
              "      <td>Credit and cash offices</td>\n",
              "      <td>-1</td>\n",
              "      <td>XNA</td>\n",
              "      <td>12.0</td>\n",
              "      <td>middle</td>\n",
              "      <td>Cash X-Sell: middle</td>\n",
              "      <td>365243.0</td>\n",
              "      <td>-482.0</td>\n",
              "      <td>-152.0</td>\n",
              "      <td>-182.0</td>\n",
              "      <td>-177.0</td>\n",
              "      <td>1.0</td>\n",
              "    </tr>\n",
              "    <tr>\n",
              "      <th>4</th>\n",
              "      <td>1784265</td>\n",
              "      <td>202054</td>\n",
              "      <td>Cash loans</td>\n",
              "      <td>31924.395</td>\n",
              "      <td>337500.0</td>\n",
              "      <td>404055.0</td>\n",
              "      <td>NaN</td>\n",
              "      <td>337500.0</td>\n",
              "      <td>THURSDAY</td>\n",
              "      <td>9</td>\n",
              "      <td>Y</td>\n",
              "      <td>1</td>\n",
              "      <td>NaN</td>\n",
              "      <td>NaN</td>\n",
              "      <td>NaN</td>\n",
              "      <td>Repairs</td>\n",
              "      <td>Refused</td>\n",
              "      <td>-781</td>\n",
              "      <td>Cash through the bank</td>\n",
              "      <td>HC</td>\n",
              "      <td>NaN</td>\n",
              "      <td>Repeater</td>\n",
              "      <td>XNA</td>\n",
              "      <td>Cash</td>\n",
              "      <td>walk-in</td>\n",
              "      <td>Credit and cash offices</td>\n",
              "      <td>-1</td>\n",
              "      <td>XNA</td>\n",
              "      <td>24.0</td>\n",
              "      <td>high</td>\n",
              "      <td>Cash Street: high</td>\n",
              "      <td>NaN</td>\n",
              "      <td>NaN</td>\n",
              "      <td>NaN</td>\n",
              "      <td>NaN</td>\n",
              "      <td>NaN</td>\n",
              "      <td>NaN</td>\n",
              "    </tr>\n",
              "  </tbody>\n",
              "</table>\n",
              "</div>"
            ],
            "text/plain": [
              "   SK_ID_PREV  SK_ID_CURR  ... DAYS_TERMINATION  NFLAG_INSURED_ON_APPROVAL\n",
              "0     2030495      271877  ...            -37.0                        0.0\n",
              "1     2802425      108129  ...         365243.0                        1.0\n",
              "2     2523466      122040  ...         365243.0                        1.0\n",
              "3     2819243      176158  ...           -177.0                        1.0\n",
              "4     1784265      202054  ...              NaN                        NaN\n",
              "\n",
              "[5 rows x 37 columns]"
            ]
          },
          "metadata": {
            "tags": []
          },
          "execution_count": 33
        }
      ]
    },
    {
      "cell_type": "markdown",
      "metadata": {
        "id": "_8NLdYhidiVs",
        "colab_type": "text"
      },
      "source": [
        "### Joining Previous Application data to Application Bureau data:"
      ]
    },
    {
      "cell_type": "code",
      "metadata": {
        "id": "YgG32l-TdiVt",
        "colab_type": "code",
        "colab": {}
      },
      "source": [
        "# Number of previous applications per customer\n",
        "grp = previous_applicaton[['SK_ID_CURR','SK_ID_PREV']].groupby(by=['SK_ID_CURR'])['SK_ID_PREV'].count().reset_index().rename(columns={'SK_ID_PREV':'PREV_APP_COUNT'})\n",
        "application_bureau_prev = application_bureau.merge(grp, on =['SK_ID_CURR'], how = 'left')\n",
        "application_bureau_prev['PREV_APP_COUNT'] = application_bureau_prev['PREV_APP_COUNT'].fillna(0)"
      ],
      "execution_count": 0,
      "outputs": []
    },
    {
      "cell_type": "code",
      "metadata": {
        "id": "PO76_jYOdiWA",
        "colab_type": "code",
        "colab": {}
      },
      "source": [
        "# Combining numerical features\n",
        "grp = previous_applicaton.drop('SK_ID_PREV', axis =1).groupby(by=['SK_ID_CURR']).mean().reset_index()\n",
        "prev_columns = ['PREV_'+column if column != 'SK_ID_CURR' else column for column in grp.columns ]\n",
        "grp.columns = prev_columns\n",
        "application_bureau_prev = application_bureau_prev.merge(grp, on =['SK_ID_CURR'], how = 'left')\n",
        "application_bureau_prev.update(application_bureau_prev[grp.columns].fillna(0))"
      ],
      "execution_count": 0,
      "outputs": []
    },
    {
      "cell_type": "code",
      "metadata": {
        "id": "NAMktVkcdiWG",
        "colab_type": "code",
        "colab": {
          "base_uri": "https://localhost:8080/"
        },
        "outputId": "b6050b59-1333-42b8-e3f5-0d1c679e7b4f"
      },
      "source": [
        "# Combining categorical features\n",
        "prev_categorical = pd.get_dummies(previous_applicaton.select_dtypes('object'))\n",
        "prev_categorical['SK_ID_CURR'] = previous_applicaton['SK_ID_CURR']\n",
        "prev_categorical.head()"
      ],
      "execution_count": 36,
      "outputs": [
        {
          "output_type": "execute_result",
          "data": {
            "text/html": [
              "<div>\n",
              "<style scoped>\n",
              "    .dataframe tbody tr th:only-of-type {\n",
              "        vertical-align: middle;\n",
              "    }\n",
              "\n",
              "    .dataframe tbody tr th {\n",
              "        vertical-align: top;\n",
              "    }\n",
              "\n",
              "    .dataframe thead th {\n",
              "        text-align: right;\n",
              "    }\n",
              "</style>\n",
              "<table border=\"1\" class=\"dataframe\">\n",
              "  <thead>\n",
              "    <tr style=\"text-align: right;\">\n",
              "      <th></th>\n",
              "      <th>NAME_CONTRACT_TYPE_Cash loans</th>\n",
              "      <th>NAME_CONTRACT_TYPE_Consumer loans</th>\n",
              "      <th>NAME_CONTRACT_TYPE_Revolving loans</th>\n",
              "      <th>NAME_CONTRACT_TYPE_XNA</th>\n",
              "      <th>WEEKDAY_APPR_PROCESS_START_FRIDAY</th>\n",
              "      <th>WEEKDAY_APPR_PROCESS_START_MONDAY</th>\n",
              "      <th>WEEKDAY_APPR_PROCESS_START_SATURDAY</th>\n",
              "      <th>WEEKDAY_APPR_PROCESS_START_SUNDAY</th>\n",
              "      <th>WEEKDAY_APPR_PROCESS_START_THURSDAY</th>\n",
              "      <th>WEEKDAY_APPR_PROCESS_START_TUESDAY</th>\n",
              "      <th>WEEKDAY_APPR_PROCESS_START_WEDNESDAY</th>\n",
              "      <th>FLAG_LAST_APPL_PER_CONTRACT_N</th>\n",
              "      <th>FLAG_LAST_APPL_PER_CONTRACT_Y</th>\n",
              "      <th>NAME_CASH_LOAN_PURPOSE_Building a house or an annex</th>\n",
              "      <th>NAME_CASH_LOAN_PURPOSE_Business development</th>\n",
              "      <th>NAME_CASH_LOAN_PURPOSE_Buying a garage</th>\n",
              "      <th>NAME_CASH_LOAN_PURPOSE_Buying a holiday home / land</th>\n",
              "      <th>NAME_CASH_LOAN_PURPOSE_Buying a home</th>\n",
              "      <th>NAME_CASH_LOAN_PURPOSE_Buying a new car</th>\n",
              "      <th>NAME_CASH_LOAN_PURPOSE_Buying a used car</th>\n",
              "      <th>NAME_CASH_LOAN_PURPOSE_Car repairs</th>\n",
              "      <th>NAME_CASH_LOAN_PURPOSE_Education</th>\n",
              "      <th>NAME_CASH_LOAN_PURPOSE_Everyday expenses</th>\n",
              "      <th>NAME_CASH_LOAN_PURPOSE_Furniture</th>\n",
              "      <th>NAME_CASH_LOAN_PURPOSE_Gasification / water supply</th>\n",
              "      <th>NAME_CASH_LOAN_PURPOSE_Hobby</th>\n",
              "      <th>NAME_CASH_LOAN_PURPOSE_Journey</th>\n",
              "      <th>NAME_CASH_LOAN_PURPOSE_Medicine</th>\n",
              "      <th>NAME_CASH_LOAN_PURPOSE_Money for a third person</th>\n",
              "      <th>NAME_CASH_LOAN_PURPOSE_Other</th>\n",
              "      <th>NAME_CASH_LOAN_PURPOSE_Payments on other loans</th>\n",
              "      <th>NAME_CASH_LOAN_PURPOSE_Purchase of electronic equipment</th>\n",
              "      <th>NAME_CASH_LOAN_PURPOSE_Refusal to name the goal</th>\n",
              "      <th>NAME_CASH_LOAN_PURPOSE_Repairs</th>\n",
              "      <th>NAME_CASH_LOAN_PURPOSE_Urgent needs</th>\n",
              "      <th>NAME_CASH_LOAN_PURPOSE_Wedding / gift / holiday</th>\n",
              "      <th>NAME_CASH_LOAN_PURPOSE_XAP</th>\n",
              "      <th>NAME_CASH_LOAN_PURPOSE_XNA</th>\n",
              "      <th>NAME_CONTRACT_STATUS_Approved</th>\n",
              "      <th>NAME_CONTRACT_STATUS_Canceled</th>\n",
              "      <th>...</th>\n",
              "      <th>CHANNEL_TYPE_Channel of corporate sales</th>\n",
              "      <th>CHANNEL_TYPE_Contact center</th>\n",
              "      <th>CHANNEL_TYPE_Country-wide</th>\n",
              "      <th>CHANNEL_TYPE_Credit and cash offices</th>\n",
              "      <th>CHANNEL_TYPE_Regional / Local</th>\n",
              "      <th>CHANNEL_TYPE_Stone</th>\n",
              "      <th>NAME_SELLER_INDUSTRY_Auto technology</th>\n",
              "      <th>NAME_SELLER_INDUSTRY_Clothing</th>\n",
              "      <th>NAME_SELLER_INDUSTRY_Connectivity</th>\n",
              "      <th>NAME_SELLER_INDUSTRY_Construction</th>\n",
              "      <th>NAME_SELLER_INDUSTRY_Consumer electronics</th>\n",
              "      <th>NAME_SELLER_INDUSTRY_Furniture</th>\n",
              "      <th>NAME_SELLER_INDUSTRY_Industry</th>\n",
              "      <th>NAME_SELLER_INDUSTRY_Jewelry</th>\n",
              "      <th>NAME_SELLER_INDUSTRY_MLM partners</th>\n",
              "      <th>NAME_SELLER_INDUSTRY_Tourism</th>\n",
              "      <th>NAME_SELLER_INDUSTRY_XNA</th>\n",
              "      <th>NAME_YIELD_GROUP_XNA</th>\n",
              "      <th>NAME_YIELD_GROUP_high</th>\n",
              "      <th>NAME_YIELD_GROUP_low_action</th>\n",
              "      <th>NAME_YIELD_GROUP_low_normal</th>\n",
              "      <th>NAME_YIELD_GROUP_middle</th>\n",
              "      <th>PRODUCT_COMBINATION_Card Street</th>\n",
              "      <th>PRODUCT_COMBINATION_Card X-Sell</th>\n",
              "      <th>PRODUCT_COMBINATION_Cash</th>\n",
              "      <th>PRODUCT_COMBINATION_Cash Street: high</th>\n",
              "      <th>PRODUCT_COMBINATION_Cash Street: low</th>\n",
              "      <th>PRODUCT_COMBINATION_Cash Street: middle</th>\n",
              "      <th>PRODUCT_COMBINATION_Cash X-Sell: high</th>\n",
              "      <th>PRODUCT_COMBINATION_Cash X-Sell: low</th>\n",
              "      <th>PRODUCT_COMBINATION_Cash X-Sell: middle</th>\n",
              "      <th>PRODUCT_COMBINATION_POS household with interest</th>\n",
              "      <th>PRODUCT_COMBINATION_POS household without interest</th>\n",
              "      <th>PRODUCT_COMBINATION_POS industry with interest</th>\n",
              "      <th>PRODUCT_COMBINATION_POS industry without interest</th>\n",
              "      <th>PRODUCT_COMBINATION_POS mobile with interest</th>\n",
              "      <th>PRODUCT_COMBINATION_POS mobile without interest</th>\n",
              "      <th>PRODUCT_COMBINATION_POS other with interest</th>\n",
              "      <th>PRODUCT_COMBINATION_POS others without interest</th>\n",
              "      <th>SK_ID_CURR</th>\n",
              "    </tr>\n",
              "  </thead>\n",
              "  <tbody>\n",
              "    <tr>\n",
              "      <th>0</th>\n",
              "      <td>0</td>\n",
              "      <td>1</td>\n",
              "      <td>0</td>\n",
              "      <td>0</td>\n",
              "      <td>0</td>\n",
              "      <td>0</td>\n",
              "      <td>1</td>\n",
              "      <td>0</td>\n",
              "      <td>0</td>\n",
              "      <td>0</td>\n",
              "      <td>0</td>\n",
              "      <td>0</td>\n",
              "      <td>1</td>\n",
              "      <td>0</td>\n",
              "      <td>0</td>\n",
              "      <td>0</td>\n",
              "      <td>0</td>\n",
              "      <td>0</td>\n",
              "      <td>0</td>\n",
              "      <td>0</td>\n",
              "      <td>0</td>\n",
              "      <td>0</td>\n",
              "      <td>0</td>\n",
              "      <td>0</td>\n",
              "      <td>0</td>\n",
              "      <td>0</td>\n",
              "      <td>0</td>\n",
              "      <td>0</td>\n",
              "      <td>0</td>\n",
              "      <td>0</td>\n",
              "      <td>0</td>\n",
              "      <td>0</td>\n",
              "      <td>0</td>\n",
              "      <td>0</td>\n",
              "      <td>0</td>\n",
              "      <td>0</td>\n",
              "      <td>1</td>\n",
              "      <td>0</td>\n",
              "      <td>1</td>\n",
              "      <td>0</td>\n",
              "      <td>...</td>\n",
              "      <td>0</td>\n",
              "      <td>0</td>\n",
              "      <td>1</td>\n",
              "      <td>0</td>\n",
              "      <td>0</td>\n",
              "      <td>0</td>\n",
              "      <td>0</td>\n",
              "      <td>0</td>\n",
              "      <td>1</td>\n",
              "      <td>0</td>\n",
              "      <td>0</td>\n",
              "      <td>0</td>\n",
              "      <td>0</td>\n",
              "      <td>0</td>\n",
              "      <td>0</td>\n",
              "      <td>0</td>\n",
              "      <td>0</td>\n",
              "      <td>0</td>\n",
              "      <td>0</td>\n",
              "      <td>0</td>\n",
              "      <td>0</td>\n",
              "      <td>1</td>\n",
              "      <td>0</td>\n",
              "      <td>0</td>\n",
              "      <td>0</td>\n",
              "      <td>0</td>\n",
              "      <td>0</td>\n",
              "      <td>0</td>\n",
              "      <td>0</td>\n",
              "      <td>0</td>\n",
              "      <td>0</td>\n",
              "      <td>0</td>\n",
              "      <td>0</td>\n",
              "      <td>0</td>\n",
              "      <td>0</td>\n",
              "      <td>1</td>\n",
              "      <td>0</td>\n",
              "      <td>0</td>\n",
              "      <td>0</td>\n",
              "      <td>271877</td>\n",
              "    </tr>\n",
              "    <tr>\n",
              "      <th>1</th>\n",
              "      <td>1</td>\n",
              "      <td>0</td>\n",
              "      <td>0</td>\n",
              "      <td>0</td>\n",
              "      <td>0</td>\n",
              "      <td>0</td>\n",
              "      <td>0</td>\n",
              "      <td>0</td>\n",
              "      <td>1</td>\n",
              "      <td>0</td>\n",
              "      <td>0</td>\n",
              "      <td>0</td>\n",
              "      <td>1</td>\n",
              "      <td>0</td>\n",
              "      <td>0</td>\n",
              "      <td>0</td>\n",
              "      <td>0</td>\n",
              "      <td>0</td>\n",
              "      <td>0</td>\n",
              "      <td>0</td>\n",
              "      <td>0</td>\n",
              "      <td>0</td>\n",
              "      <td>0</td>\n",
              "      <td>0</td>\n",
              "      <td>0</td>\n",
              "      <td>0</td>\n",
              "      <td>0</td>\n",
              "      <td>0</td>\n",
              "      <td>0</td>\n",
              "      <td>0</td>\n",
              "      <td>0</td>\n",
              "      <td>0</td>\n",
              "      <td>0</td>\n",
              "      <td>0</td>\n",
              "      <td>0</td>\n",
              "      <td>0</td>\n",
              "      <td>0</td>\n",
              "      <td>1</td>\n",
              "      <td>1</td>\n",
              "      <td>0</td>\n",
              "      <td>...</td>\n",
              "      <td>0</td>\n",
              "      <td>1</td>\n",
              "      <td>0</td>\n",
              "      <td>0</td>\n",
              "      <td>0</td>\n",
              "      <td>0</td>\n",
              "      <td>0</td>\n",
              "      <td>0</td>\n",
              "      <td>0</td>\n",
              "      <td>0</td>\n",
              "      <td>0</td>\n",
              "      <td>0</td>\n",
              "      <td>0</td>\n",
              "      <td>0</td>\n",
              "      <td>0</td>\n",
              "      <td>0</td>\n",
              "      <td>1</td>\n",
              "      <td>0</td>\n",
              "      <td>0</td>\n",
              "      <td>1</td>\n",
              "      <td>0</td>\n",
              "      <td>0</td>\n",
              "      <td>0</td>\n",
              "      <td>0</td>\n",
              "      <td>0</td>\n",
              "      <td>0</td>\n",
              "      <td>0</td>\n",
              "      <td>0</td>\n",
              "      <td>0</td>\n",
              "      <td>1</td>\n",
              "      <td>0</td>\n",
              "      <td>0</td>\n",
              "      <td>0</td>\n",
              "      <td>0</td>\n",
              "      <td>0</td>\n",
              "      <td>0</td>\n",
              "      <td>0</td>\n",
              "      <td>0</td>\n",
              "      <td>0</td>\n",
              "      <td>108129</td>\n",
              "    </tr>\n",
              "    <tr>\n",
              "      <th>2</th>\n",
              "      <td>1</td>\n",
              "      <td>0</td>\n",
              "      <td>0</td>\n",
              "      <td>0</td>\n",
              "      <td>0</td>\n",
              "      <td>0</td>\n",
              "      <td>0</td>\n",
              "      <td>0</td>\n",
              "      <td>0</td>\n",
              "      <td>1</td>\n",
              "      <td>0</td>\n",
              "      <td>0</td>\n",
              "      <td>1</td>\n",
              "      <td>0</td>\n",
              "      <td>0</td>\n",
              "      <td>0</td>\n",
              "      <td>0</td>\n",
              "      <td>0</td>\n",
              "      <td>0</td>\n",
              "      <td>0</td>\n",
              "      <td>0</td>\n",
              "      <td>0</td>\n",
              "      <td>0</td>\n",
              "      <td>0</td>\n",
              "      <td>0</td>\n",
              "      <td>0</td>\n",
              "      <td>0</td>\n",
              "      <td>0</td>\n",
              "      <td>0</td>\n",
              "      <td>0</td>\n",
              "      <td>0</td>\n",
              "      <td>0</td>\n",
              "      <td>0</td>\n",
              "      <td>0</td>\n",
              "      <td>0</td>\n",
              "      <td>0</td>\n",
              "      <td>0</td>\n",
              "      <td>1</td>\n",
              "      <td>1</td>\n",
              "      <td>0</td>\n",
              "      <td>...</td>\n",
              "      <td>0</td>\n",
              "      <td>0</td>\n",
              "      <td>0</td>\n",
              "      <td>1</td>\n",
              "      <td>0</td>\n",
              "      <td>0</td>\n",
              "      <td>0</td>\n",
              "      <td>0</td>\n",
              "      <td>0</td>\n",
              "      <td>0</td>\n",
              "      <td>0</td>\n",
              "      <td>0</td>\n",
              "      <td>0</td>\n",
              "      <td>0</td>\n",
              "      <td>0</td>\n",
              "      <td>0</td>\n",
              "      <td>1</td>\n",
              "      <td>0</td>\n",
              "      <td>1</td>\n",
              "      <td>0</td>\n",
              "      <td>0</td>\n",
              "      <td>0</td>\n",
              "      <td>0</td>\n",
              "      <td>0</td>\n",
              "      <td>0</td>\n",
              "      <td>0</td>\n",
              "      <td>0</td>\n",
              "      <td>0</td>\n",
              "      <td>1</td>\n",
              "      <td>0</td>\n",
              "      <td>0</td>\n",
              "      <td>0</td>\n",
              "      <td>0</td>\n",
              "      <td>0</td>\n",
              "      <td>0</td>\n",
              "      <td>0</td>\n",
              "      <td>0</td>\n",
              "      <td>0</td>\n",
              "      <td>0</td>\n",
              "      <td>122040</td>\n",
              "    </tr>\n",
              "    <tr>\n",
              "      <th>3</th>\n",
              "      <td>1</td>\n",
              "      <td>0</td>\n",
              "      <td>0</td>\n",
              "      <td>0</td>\n",
              "      <td>0</td>\n",
              "      <td>1</td>\n",
              "      <td>0</td>\n",
              "      <td>0</td>\n",
              "      <td>0</td>\n",
              "      <td>0</td>\n",
              "      <td>0</td>\n",
              "      <td>0</td>\n",
              "      <td>1</td>\n",
              "      <td>0</td>\n",
              "      <td>0</td>\n",
              "      <td>0</td>\n",
              "      <td>0</td>\n",
              "      <td>0</td>\n",
              "      <td>0</td>\n",
              "      <td>0</td>\n",
              "      <td>0</td>\n",
              "      <td>0</td>\n",
              "      <td>0</td>\n",
              "      <td>0</td>\n",
              "      <td>0</td>\n",
              "      <td>0</td>\n",
              "      <td>0</td>\n",
              "      <td>0</td>\n",
              "      <td>0</td>\n",
              "      <td>0</td>\n",
              "      <td>0</td>\n",
              "      <td>0</td>\n",
              "      <td>0</td>\n",
              "      <td>0</td>\n",
              "      <td>0</td>\n",
              "      <td>0</td>\n",
              "      <td>0</td>\n",
              "      <td>1</td>\n",
              "      <td>1</td>\n",
              "      <td>0</td>\n",
              "      <td>...</td>\n",
              "      <td>0</td>\n",
              "      <td>0</td>\n",
              "      <td>0</td>\n",
              "      <td>1</td>\n",
              "      <td>0</td>\n",
              "      <td>0</td>\n",
              "      <td>0</td>\n",
              "      <td>0</td>\n",
              "      <td>0</td>\n",
              "      <td>0</td>\n",
              "      <td>0</td>\n",
              "      <td>0</td>\n",
              "      <td>0</td>\n",
              "      <td>0</td>\n",
              "      <td>0</td>\n",
              "      <td>0</td>\n",
              "      <td>1</td>\n",
              "      <td>0</td>\n",
              "      <td>0</td>\n",
              "      <td>0</td>\n",
              "      <td>0</td>\n",
              "      <td>1</td>\n",
              "      <td>0</td>\n",
              "      <td>0</td>\n",
              "      <td>0</td>\n",
              "      <td>0</td>\n",
              "      <td>0</td>\n",
              "      <td>0</td>\n",
              "      <td>0</td>\n",
              "      <td>0</td>\n",
              "      <td>1</td>\n",
              "      <td>0</td>\n",
              "      <td>0</td>\n",
              "      <td>0</td>\n",
              "      <td>0</td>\n",
              "      <td>0</td>\n",
              "      <td>0</td>\n",
              "      <td>0</td>\n",
              "      <td>0</td>\n",
              "      <td>176158</td>\n",
              "    </tr>\n",
              "    <tr>\n",
              "      <th>4</th>\n",
              "      <td>1</td>\n",
              "      <td>0</td>\n",
              "      <td>0</td>\n",
              "      <td>0</td>\n",
              "      <td>0</td>\n",
              "      <td>0</td>\n",
              "      <td>0</td>\n",
              "      <td>0</td>\n",
              "      <td>1</td>\n",
              "      <td>0</td>\n",
              "      <td>0</td>\n",
              "      <td>0</td>\n",
              "      <td>1</td>\n",
              "      <td>0</td>\n",
              "      <td>0</td>\n",
              "      <td>0</td>\n",
              "      <td>0</td>\n",
              "      <td>0</td>\n",
              "      <td>0</td>\n",
              "      <td>0</td>\n",
              "      <td>0</td>\n",
              "      <td>0</td>\n",
              "      <td>0</td>\n",
              "      <td>0</td>\n",
              "      <td>0</td>\n",
              "      <td>0</td>\n",
              "      <td>0</td>\n",
              "      <td>0</td>\n",
              "      <td>0</td>\n",
              "      <td>0</td>\n",
              "      <td>0</td>\n",
              "      <td>0</td>\n",
              "      <td>0</td>\n",
              "      <td>1</td>\n",
              "      <td>0</td>\n",
              "      <td>0</td>\n",
              "      <td>0</td>\n",
              "      <td>0</td>\n",
              "      <td>0</td>\n",
              "      <td>0</td>\n",
              "      <td>...</td>\n",
              "      <td>0</td>\n",
              "      <td>0</td>\n",
              "      <td>0</td>\n",
              "      <td>1</td>\n",
              "      <td>0</td>\n",
              "      <td>0</td>\n",
              "      <td>0</td>\n",
              "      <td>0</td>\n",
              "      <td>0</td>\n",
              "      <td>0</td>\n",
              "      <td>0</td>\n",
              "      <td>0</td>\n",
              "      <td>0</td>\n",
              "      <td>0</td>\n",
              "      <td>0</td>\n",
              "      <td>0</td>\n",
              "      <td>1</td>\n",
              "      <td>0</td>\n",
              "      <td>1</td>\n",
              "      <td>0</td>\n",
              "      <td>0</td>\n",
              "      <td>0</td>\n",
              "      <td>0</td>\n",
              "      <td>0</td>\n",
              "      <td>0</td>\n",
              "      <td>1</td>\n",
              "      <td>0</td>\n",
              "      <td>0</td>\n",
              "      <td>0</td>\n",
              "      <td>0</td>\n",
              "      <td>0</td>\n",
              "      <td>0</td>\n",
              "      <td>0</td>\n",
              "      <td>0</td>\n",
              "      <td>0</td>\n",
              "      <td>0</td>\n",
              "      <td>0</td>\n",
              "      <td>0</td>\n",
              "      <td>0</td>\n",
              "      <td>202054</td>\n",
              "    </tr>\n",
              "  </tbody>\n",
              "</table>\n",
              "<p>5 rows × 143 columns</p>\n",
              "</div>"
            ],
            "text/plain": [
              "   NAME_CONTRACT_TYPE_Cash loans  ...  SK_ID_CURR\n",
              "0                              0  ...      271877\n",
              "1                              1  ...      108129\n",
              "2                              1  ...      122040\n",
              "3                              1  ...      176158\n",
              "4                              1  ...      202054\n",
              "\n",
              "[5 rows x 143 columns]"
            ]
          },
          "metadata": {
            "tags": []
          },
          "execution_count": 36
        }
      ]
    },
    {
      "cell_type": "code",
      "metadata": {
        "id": "lVlBUaePdiWM",
        "colab_type": "code",
        "colab": {}
      },
      "source": [
        "grp = prev_categorical.groupby('SK_ID_CURR').mean().reset_index()\n",
        "grp.columns = ['PREV_'+column if column != 'SK_ID_CURR' else column for column in grp.columns]"
      ],
      "execution_count": 0,
      "outputs": []
    },
    {
      "cell_type": "code",
      "metadata": {
        "id": "j6tgwAE-diWT",
        "colab_type": "code",
        "colab": {}
      },
      "source": [
        "application_bureau_prev = application_bureau_prev.merge(grp, on=['SK_ID_CURR'], how='left')\n",
        "application_bureau_prev.update(application_bureau_prev[grp.columns].fillna(0))"
      ],
      "execution_count": 0,
      "outputs": []
    },
    {
      "cell_type": "markdown",
      "metadata": {
        "id": "76oPDBG-diWZ",
        "colab_type": "text"
      },
      "source": [
        "### Using POS_CASH_balance data:"
      ]
    },
    {
      "cell_type": "code",
      "metadata": {
        "id": "DxzisjQIdiWb",
        "colab_type": "code",
        "colab": {
          "base_uri": "https://localhost:8080/"
        },
        "outputId": "32b81e7e-085d-435d-9ad8-d4ef942574ff"
      },
      "source": [
        "print('Reading the data....', end='')\n",
        "pos_cash = pd.read_csv('POS_CASH_balance.csv')\n",
        "print('done!!!')\n",
        "print('The shape of data:',pos_cash.shape)\n",
        "print('First 5 rows of data:')\n",
        "pos_cash.head()"
      ],
      "execution_count": 39,
      "outputs": [
        {
          "output_type": "stream",
          "text": [
            "Reading the data....done!!!\n",
            "The shape of data: (4243282, 8)\n",
            "First 5 rows of data:\n"
          ],
          "name": "stdout"
        },
        {
          "output_type": "execute_result",
          "data": {
            "text/html": [
              "<div>\n",
              "<style scoped>\n",
              "    .dataframe tbody tr th:only-of-type {\n",
              "        vertical-align: middle;\n",
              "    }\n",
              "\n",
              "    .dataframe tbody tr th {\n",
              "        vertical-align: top;\n",
              "    }\n",
              "\n",
              "    .dataframe thead th {\n",
              "        text-align: right;\n",
              "    }\n",
              "</style>\n",
              "<table border=\"1\" class=\"dataframe\">\n",
              "  <thead>\n",
              "    <tr style=\"text-align: right;\">\n",
              "      <th></th>\n",
              "      <th>SK_ID_PREV</th>\n",
              "      <th>SK_ID_CURR</th>\n",
              "      <th>MONTHS_BALANCE</th>\n",
              "      <th>CNT_INSTALMENT</th>\n",
              "      <th>CNT_INSTALMENT_FUTURE</th>\n",
              "      <th>NAME_CONTRACT_STATUS</th>\n",
              "      <th>SK_DPD</th>\n",
              "      <th>SK_DPD_DEF</th>\n",
              "    </tr>\n",
              "  </thead>\n",
              "  <tbody>\n",
              "    <tr>\n",
              "      <th>0</th>\n",
              "      <td>1803195</td>\n",
              "      <td>182943.0</td>\n",
              "      <td>-31.0</td>\n",
              "      <td>48.0</td>\n",
              "      <td>45.0</td>\n",
              "      <td>Active</td>\n",
              "      <td>0.0</td>\n",
              "      <td>0.0</td>\n",
              "    </tr>\n",
              "    <tr>\n",
              "      <th>1</th>\n",
              "      <td>1715348</td>\n",
              "      <td>367990.0</td>\n",
              "      <td>-33.0</td>\n",
              "      <td>36.0</td>\n",
              "      <td>35.0</td>\n",
              "      <td>Active</td>\n",
              "      <td>0.0</td>\n",
              "      <td>0.0</td>\n",
              "    </tr>\n",
              "    <tr>\n",
              "      <th>2</th>\n",
              "      <td>1784872</td>\n",
              "      <td>397406.0</td>\n",
              "      <td>-32.0</td>\n",
              "      <td>12.0</td>\n",
              "      <td>9.0</td>\n",
              "      <td>Active</td>\n",
              "      <td>0.0</td>\n",
              "      <td>0.0</td>\n",
              "    </tr>\n",
              "    <tr>\n",
              "      <th>3</th>\n",
              "      <td>1903291</td>\n",
              "      <td>269225.0</td>\n",
              "      <td>-35.0</td>\n",
              "      <td>48.0</td>\n",
              "      <td>42.0</td>\n",
              "      <td>Active</td>\n",
              "      <td>0.0</td>\n",
              "      <td>0.0</td>\n",
              "    </tr>\n",
              "    <tr>\n",
              "      <th>4</th>\n",
              "      <td>2341044</td>\n",
              "      <td>334279.0</td>\n",
              "      <td>-35.0</td>\n",
              "      <td>36.0</td>\n",
              "      <td>35.0</td>\n",
              "      <td>Active</td>\n",
              "      <td>0.0</td>\n",
              "      <td>0.0</td>\n",
              "    </tr>\n",
              "  </tbody>\n",
              "</table>\n",
              "</div>"
            ],
            "text/plain": [
              "   SK_ID_PREV  SK_ID_CURR  ...  SK_DPD  SK_DPD_DEF\n",
              "0     1803195    182943.0  ...     0.0         0.0\n",
              "1     1715348    367990.0  ...     0.0         0.0\n",
              "2     1784872    397406.0  ...     0.0         0.0\n",
              "3     1903291    269225.0  ...     0.0         0.0\n",
              "4     2341044    334279.0  ...     0.0         0.0\n",
              "\n",
              "[5 rows x 8 columns]"
            ]
          },
          "metadata": {
            "tags": []
          },
          "execution_count": 39
        }
      ]
    },
    {
      "cell_type": "markdown",
      "metadata": {
        "id": "2HXnhyErdiWo",
        "colab_type": "text"
      },
      "source": [
        "### Joining POS_CASH_balance data to application_bureau_prev_data:"
      ]
    },
    {
      "cell_type": "code",
      "metadata": {
        "id": "6x3zRRLkdiWq",
        "colab_type": "code",
        "colab": {}
      },
      "source": [
        "# Combining numerical features\n",
        "grp = pos_cash.drop('SK_ID_PREV', axis =1).groupby(by=['SK_ID_CURR']).mean().reset_index()\n",
        "prev_columns = ['POS_'+column if column != 'SK_ID_CURR' else column for column in grp.columns ]\n",
        "grp.columns = prev_columns\n",
        "application_bureau_prev = application_bureau_prev.merge(grp, on =['SK_ID_CURR'], how = 'left')\n",
        "application_bureau_prev.update(application_bureau_prev[grp.columns].fillna(0))"
      ],
      "execution_count": 0,
      "outputs": []
    },
    {
      "cell_type": "code",
      "metadata": {
        "id": "uQ73vgB5diWw",
        "colab_type": "code",
        "colab": {}
      },
      "source": [
        "# Combining categorical features\n",
        "pos_cash_categorical = pd.get_dummies(pos_cash.select_dtypes('object'))\n",
        "pos_cash_categorical['SK_ID_CURR'] = pos_cash['SK_ID_CURR']"
      ],
      "execution_count": 0,
      "outputs": []
    },
    {
      "cell_type": "code",
      "metadata": {
        "id": "yg7ieGdxdiW0",
        "colab_type": "code",
        "colab": {}
      },
      "source": [
        "grp = pos_cash_categorical.groupby('SK_ID_CURR').mean().reset_index()\n",
        "grp.columns = ['POS_'+column if column != 'SK_ID_CURR' else column for column in grp.columns]"
      ],
      "execution_count": 0,
      "outputs": []
    },
    {
      "cell_type": "code",
      "metadata": {
        "id": "KD7DjW_DdiW6",
        "colab_type": "code",
        "colab": {}
      },
      "source": [
        "application_bureau_prev = application_bureau_prev.merge(grp, on=['SK_ID_CURR'], how='left')\n",
        "application_bureau_prev.update(application_bureau_prev[grp.columns].fillna(0))"
      ],
      "execution_count": 0,
      "outputs": []
    },
    {
      "cell_type": "markdown",
      "metadata": {
        "id": "wTt7vm9odiXA",
        "colab_type": "text"
      },
      "source": [
        "### Using installments_payments data:"
      ]
    },
    {
      "cell_type": "code",
      "metadata": {
        "id": "EdY0LKGjdiXB",
        "colab_type": "code",
        "colab": {
          "base_uri": "https://localhost:8080/"
        },
        "outputId": "d65e80ff-d811-4055-86cf-def1c81d41d5"
      },
      "source": [
        "print('Reading the data....', end='')\n",
        "insta_payments = pd.read_csv('installments_payments.csv')\n",
        "print('done!!!')\n",
        "print('The shape of data:',insta_payments.shape)\n",
        "print('First 5 rows of data:')\n",
        "insta_payments.head()"
      ],
      "execution_count": 44,
      "outputs": [
        {
          "output_type": "stream",
          "text": [
            "Reading the data....done!!!\n",
            "The shape of data: (3136748, 8)\n",
            "First 5 rows of data:\n"
          ],
          "name": "stdout"
        },
        {
          "output_type": "execute_result",
          "data": {
            "text/html": [
              "<div>\n",
              "<style scoped>\n",
              "    .dataframe tbody tr th:only-of-type {\n",
              "        vertical-align: middle;\n",
              "    }\n",
              "\n",
              "    .dataframe tbody tr th {\n",
              "        vertical-align: top;\n",
              "    }\n",
              "\n",
              "    .dataframe thead th {\n",
              "        text-align: right;\n",
              "    }\n",
              "</style>\n",
              "<table border=\"1\" class=\"dataframe\">\n",
              "  <thead>\n",
              "    <tr style=\"text-align: right;\">\n",
              "      <th></th>\n",
              "      <th>SK_ID_PREV</th>\n",
              "      <th>SK_ID_CURR</th>\n",
              "      <th>NUM_INSTALMENT_VERSION</th>\n",
              "      <th>NUM_INSTALMENT_NUMBER</th>\n",
              "      <th>DAYS_INSTALMENT</th>\n",
              "      <th>DAYS_ENTRY_PAYMENT</th>\n",
              "      <th>AMT_INSTALMENT</th>\n",
              "      <th>AMT_PAYMENT</th>\n",
              "    </tr>\n",
              "  </thead>\n",
              "  <tbody>\n",
              "    <tr>\n",
              "      <th>0</th>\n",
              "      <td>1054186</td>\n",
              "      <td>161674</td>\n",
              "      <td>1.0</td>\n",
              "      <td>6.0</td>\n",
              "      <td>-1180.0</td>\n",
              "      <td>-1187.0</td>\n",
              "      <td>6948.360</td>\n",
              "      <td>6948.360</td>\n",
              "    </tr>\n",
              "    <tr>\n",
              "      <th>1</th>\n",
              "      <td>1330831</td>\n",
              "      <td>151639</td>\n",
              "      <td>0.0</td>\n",
              "      <td>34.0</td>\n",
              "      <td>-2156.0</td>\n",
              "      <td>-2156.0</td>\n",
              "      <td>1716.525</td>\n",
              "      <td>1716.525</td>\n",
              "    </tr>\n",
              "    <tr>\n",
              "      <th>2</th>\n",
              "      <td>2085231</td>\n",
              "      <td>193053</td>\n",
              "      <td>2.0</td>\n",
              "      <td>1.0</td>\n",
              "      <td>-63.0</td>\n",
              "      <td>-63.0</td>\n",
              "      <td>25425.000</td>\n",
              "      <td>25425.000</td>\n",
              "    </tr>\n",
              "    <tr>\n",
              "      <th>3</th>\n",
              "      <td>2452527</td>\n",
              "      <td>199697</td>\n",
              "      <td>1.0</td>\n",
              "      <td>3.0</td>\n",
              "      <td>-2418.0</td>\n",
              "      <td>-2426.0</td>\n",
              "      <td>24350.130</td>\n",
              "      <td>24350.130</td>\n",
              "    </tr>\n",
              "    <tr>\n",
              "      <th>4</th>\n",
              "      <td>2714724</td>\n",
              "      <td>167756</td>\n",
              "      <td>1.0</td>\n",
              "      <td>2.0</td>\n",
              "      <td>-1383.0</td>\n",
              "      <td>-1366.0</td>\n",
              "      <td>2165.040</td>\n",
              "      <td>2160.585</td>\n",
              "    </tr>\n",
              "  </tbody>\n",
              "</table>\n",
              "</div>"
            ],
            "text/plain": [
              "   SK_ID_PREV  SK_ID_CURR  ...  AMT_INSTALMENT  AMT_PAYMENT\n",
              "0     1054186      161674  ...        6948.360     6948.360\n",
              "1     1330831      151639  ...        1716.525     1716.525\n",
              "2     2085231      193053  ...       25425.000    25425.000\n",
              "3     2452527      199697  ...       24350.130    24350.130\n",
              "4     2714724      167756  ...        2165.040     2160.585\n",
              "\n",
              "[5 rows x 8 columns]"
            ]
          },
          "metadata": {
            "tags": []
          },
          "execution_count": 44
        }
      ]
    },
    {
      "cell_type": "markdown",
      "metadata": {
        "id": "YtgdhGs2diXJ",
        "colab_type": "text"
      },
      "source": [
        "### Joining Installments Payments data to application_bureau_prev_data:"
      ]
    },
    {
      "cell_type": "code",
      "metadata": {
        "id": "m9n-lzjTdiXJ",
        "colab_type": "code",
        "colab": {}
      },
      "source": [
        "# Combining numerical features and there are no categorical features in this dataset\n",
        "grp = insta_payments.drop('SK_ID_PREV', axis =1).groupby(by=['SK_ID_CURR']).mean().reset_index()\n",
        "prev_columns = ['INSTA_'+column if column != 'SK_ID_CURR' else column for column in grp.columns ]\n",
        "grp.columns = prev_columns\n",
        "application_bureau_prev = application_bureau_prev.merge(grp, on =['SK_ID_CURR'], how = 'left')\n",
        "application_bureau_prev.update(application_bureau_prev[grp.columns].fillna(0))"
      ],
      "execution_count": 0,
      "outputs": []
    },
    {
      "cell_type": "markdown",
      "metadata": {
        "id": "Cyjidr4_diXX",
        "colab_type": "text"
      },
      "source": [
        "### Using Credit card balance data:"
      ]
    },
    {
      "cell_type": "code",
      "metadata": {
        "id": "ghOV0zKSdiXY",
        "colab_type": "code",
        "colab": {
          "base_uri": "https://localhost:8080/"
        },
        "outputId": "9be98555-ae5f-44c0-9f31-64810cdc6166"
      },
      "source": [
        "print('Reading the data....', end='')\n",
        "credit_card = pd.read_csv('credit_card_balance.csv')\n",
        "print('done!!!')\n",
        "print('The shape of data:',credit_card.shape)\n",
        "print('First 5 rows of data:')\n",
        "credit_card.head()"
      ],
      "execution_count": 46,
      "outputs": [
        {
          "output_type": "stream",
          "text": [
            "Reading the data....done!!!\n",
            "The shape of data: (1551870, 23)\n",
            "First 5 rows of data:\n"
          ],
          "name": "stdout"
        },
        {
          "output_type": "execute_result",
          "data": {
            "text/html": [
              "<div>\n",
              "<style scoped>\n",
              "    .dataframe tbody tr th:only-of-type {\n",
              "        vertical-align: middle;\n",
              "    }\n",
              "\n",
              "    .dataframe tbody tr th {\n",
              "        vertical-align: top;\n",
              "    }\n",
              "\n",
              "    .dataframe thead th {\n",
              "        text-align: right;\n",
              "    }\n",
              "</style>\n",
              "<table border=\"1\" class=\"dataframe\">\n",
              "  <thead>\n",
              "    <tr style=\"text-align: right;\">\n",
              "      <th></th>\n",
              "      <th>SK_ID_PREV</th>\n",
              "      <th>SK_ID_CURR</th>\n",
              "      <th>MONTHS_BALANCE</th>\n",
              "      <th>AMT_BALANCE</th>\n",
              "      <th>AMT_CREDIT_LIMIT_ACTUAL</th>\n",
              "      <th>AMT_DRAWINGS_ATM_CURRENT</th>\n",
              "      <th>AMT_DRAWINGS_CURRENT</th>\n",
              "      <th>AMT_DRAWINGS_OTHER_CURRENT</th>\n",
              "      <th>AMT_DRAWINGS_POS_CURRENT</th>\n",
              "      <th>AMT_INST_MIN_REGULARITY</th>\n",
              "      <th>AMT_PAYMENT_CURRENT</th>\n",
              "      <th>AMT_PAYMENT_TOTAL_CURRENT</th>\n",
              "      <th>AMT_RECEIVABLE_PRINCIPAL</th>\n",
              "      <th>AMT_RECIVABLE</th>\n",
              "      <th>AMT_TOTAL_RECEIVABLE</th>\n",
              "      <th>CNT_DRAWINGS_ATM_CURRENT</th>\n",
              "      <th>CNT_DRAWINGS_CURRENT</th>\n",
              "      <th>CNT_DRAWINGS_OTHER_CURRENT</th>\n",
              "      <th>CNT_DRAWINGS_POS_CURRENT</th>\n",
              "      <th>CNT_INSTALMENT_MATURE_CUM</th>\n",
              "      <th>NAME_CONTRACT_STATUS</th>\n",
              "      <th>SK_DPD</th>\n",
              "      <th>SK_DPD_DEF</th>\n",
              "    </tr>\n",
              "  </thead>\n",
              "  <tbody>\n",
              "    <tr>\n",
              "      <th>0</th>\n",
              "      <td>2562384</td>\n",
              "      <td>378907</td>\n",
              "      <td>-6</td>\n",
              "      <td>56.970</td>\n",
              "      <td>135000</td>\n",
              "      <td>0.0</td>\n",
              "      <td>877.5</td>\n",
              "      <td>0.0</td>\n",
              "      <td>877.5</td>\n",
              "      <td>1700.325</td>\n",
              "      <td>1800.0</td>\n",
              "      <td>1800.0</td>\n",
              "      <td>0.000</td>\n",
              "      <td>0.000</td>\n",
              "      <td>0.000</td>\n",
              "      <td>0.0</td>\n",
              "      <td>1.0</td>\n",
              "      <td>0.0</td>\n",
              "      <td>1.0</td>\n",
              "      <td>35.0</td>\n",
              "      <td>Active</td>\n",
              "      <td>0.0</td>\n",
              "      <td>0.0</td>\n",
              "    </tr>\n",
              "    <tr>\n",
              "      <th>1</th>\n",
              "      <td>2582071</td>\n",
              "      <td>363914</td>\n",
              "      <td>-1</td>\n",
              "      <td>63975.555</td>\n",
              "      <td>45000</td>\n",
              "      <td>2250.0</td>\n",
              "      <td>2250.0</td>\n",
              "      <td>0.0</td>\n",
              "      <td>0.0</td>\n",
              "      <td>2250.000</td>\n",
              "      <td>2250.0</td>\n",
              "      <td>2250.0</td>\n",
              "      <td>60175.080</td>\n",
              "      <td>64875.555</td>\n",
              "      <td>64875.555</td>\n",
              "      <td>1.0</td>\n",
              "      <td>1.0</td>\n",
              "      <td>0.0</td>\n",
              "      <td>0.0</td>\n",
              "      <td>69.0</td>\n",
              "      <td>Active</td>\n",
              "      <td>0.0</td>\n",
              "      <td>0.0</td>\n",
              "    </tr>\n",
              "    <tr>\n",
              "      <th>2</th>\n",
              "      <td>1740877</td>\n",
              "      <td>371185</td>\n",
              "      <td>-7</td>\n",
              "      <td>31815.225</td>\n",
              "      <td>450000</td>\n",
              "      <td>0.0</td>\n",
              "      <td>0.0</td>\n",
              "      <td>0.0</td>\n",
              "      <td>0.0</td>\n",
              "      <td>2250.000</td>\n",
              "      <td>2250.0</td>\n",
              "      <td>2250.0</td>\n",
              "      <td>26926.425</td>\n",
              "      <td>31460.085</td>\n",
              "      <td>31460.085</td>\n",
              "      <td>0.0</td>\n",
              "      <td>0.0</td>\n",
              "      <td>0.0</td>\n",
              "      <td>0.0</td>\n",
              "      <td>30.0</td>\n",
              "      <td>Active</td>\n",
              "      <td>0.0</td>\n",
              "      <td>0.0</td>\n",
              "    </tr>\n",
              "    <tr>\n",
              "      <th>3</th>\n",
              "      <td>1389973</td>\n",
              "      <td>337855</td>\n",
              "      <td>-4</td>\n",
              "      <td>236572.110</td>\n",
              "      <td>225000</td>\n",
              "      <td>2250.0</td>\n",
              "      <td>2250.0</td>\n",
              "      <td>0.0</td>\n",
              "      <td>0.0</td>\n",
              "      <td>11795.760</td>\n",
              "      <td>11925.0</td>\n",
              "      <td>11925.0</td>\n",
              "      <td>224949.285</td>\n",
              "      <td>233048.970</td>\n",
              "      <td>233048.970</td>\n",
              "      <td>1.0</td>\n",
              "      <td>1.0</td>\n",
              "      <td>0.0</td>\n",
              "      <td>0.0</td>\n",
              "      <td>10.0</td>\n",
              "      <td>Active</td>\n",
              "      <td>0.0</td>\n",
              "      <td>0.0</td>\n",
              "    </tr>\n",
              "    <tr>\n",
              "      <th>4</th>\n",
              "      <td>1891521</td>\n",
              "      <td>126868</td>\n",
              "      <td>-1</td>\n",
              "      <td>453919.455</td>\n",
              "      <td>450000</td>\n",
              "      <td>0.0</td>\n",
              "      <td>11547.0</td>\n",
              "      <td>0.0</td>\n",
              "      <td>11547.0</td>\n",
              "      <td>22924.890</td>\n",
              "      <td>27000.0</td>\n",
              "      <td>27000.0</td>\n",
              "      <td>443044.395</td>\n",
              "      <td>453919.455</td>\n",
              "      <td>453919.455</td>\n",
              "      <td>0.0</td>\n",
              "      <td>1.0</td>\n",
              "      <td>0.0</td>\n",
              "      <td>1.0</td>\n",
              "      <td>101.0</td>\n",
              "      <td>Active</td>\n",
              "      <td>0.0</td>\n",
              "      <td>0.0</td>\n",
              "    </tr>\n",
              "  </tbody>\n",
              "</table>\n",
              "</div>"
            ],
            "text/plain": [
              "   SK_ID_PREV  SK_ID_CURR  ...  SK_DPD  SK_DPD_DEF\n",
              "0     2562384      378907  ...     0.0         0.0\n",
              "1     2582071      363914  ...     0.0         0.0\n",
              "2     1740877      371185  ...     0.0         0.0\n",
              "3     1389973      337855  ...     0.0         0.0\n",
              "4     1891521      126868  ...     0.0         0.0\n",
              "\n",
              "[5 rows x 23 columns]"
            ]
          },
          "metadata": {
            "tags": []
          },
          "execution_count": 46
        }
      ]
    },
    {
      "cell_type": "markdown",
      "metadata": {
        "id": "bi6iomJgdiXg",
        "colab_type": "text"
      },
      "source": [
        "### Joining Credit card balance data to application_bureau_prev data:"
      ]
    },
    {
      "cell_type": "code",
      "metadata": {
        "id": "Xw6WbUZEdiXh",
        "colab_type": "code",
        "colab": {}
      },
      "source": [
        "# Combining numerical features\n",
        "grp = credit_card.drop('SK_ID_PREV', axis =1).groupby(by=['SK_ID_CURR']).mean().reset_index()\n",
        "prev_columns = ['CREDIT_'+column if column != 'SK_ID_CURR' else column for column in grp.columns ]\n",
        "grp.columns = prev_columns\n",
        "application_bureau_prev = application_bureau_prev.merge(grp, on =['SK_ID_CURR'], how = 'left')\n",
        "application_bureau_prev.update(application_bureau_prev[grp.columns].fillna(0))"
      ],
      "execution_count": 0,
      "outputs": []
    },
    {
      "cell_type": "code",
      "metadata": {
        "id": "f8vrYPmadiXl",
        "colab_type": "code",
        "colab": {}
      },
      "source": [
        "# Combining categorical features\n",
        "credit_categorical = pd.get_dummies(credit_card.select_dtypes('object'))\n",
        "credit_categorical['SK_ID_CURR'] = credit_card['SK_ID_CURR']"
      ],
      "execution_count": 0,
      "outputs": []
    },
    {
      "cell_type": "code",
      "metadata": {
        "id": "qbWeFkR7diXs",
        "colab_type": "code",
        "colab": {}
      },
      "source": [
        "grp = credit_categorical.groupby('SK_ID_CURR').mean().reset_index()\n",
        "grp.columns = ['CREDIT_'+column if column != 'SK_ID_CURR' else column for column in grp.columns]"
      ],
      "execution_count": 0,
      "outputs": []
    },
    {
      "cell_type": "code",
      "metadata": {
        "id": "18Ir4GpydiXz",
        "colab_type": "code",
        "colab": {}
      },
      "source": [
        "application_bureau_prev = application_bureau_prev.merge(grp, on=['SK_ID_CURR'], how='left')\n",
        "application_bureau_prev.update(application_bureau_prev[grp.columns].fillna(0))"
      ],
      "execution_count": 0,
      "outputs": []
    },
    {
      "cell_type": "markdown",
      "metadata": {
        "id": "vTl7xBx1diX7",
        "colab_type": "text"
      },
      "source": [
        "___"
      ]
    },
    {
      "cell_type": "markdown",
      "metadata": {
        "id": "235Y5KB1diX8",
        "colab_type": "text"
      },
      "source": [
        "## Dividing final data into train, valid and test datasets:"
      ]
    },
    {
      "cell_type": "code",
      "metadata": {
        "id": "_0wqL5APdiX9",
        "colab_type": "code",
        "colab": {}
      },
      "source": [
        "y = application_bureau_prev.pop('TARGET').values\n",
        "\n",
        "\n",
        "X_train, X_temp, y_train, y_temp = train_test_split(application_bureau_prev.drop(['SK_ID_CURR'],axis=1), y, stratify = y, test_size=0.3, random_state=42)\n",
        "X_val, X_test, y_val, y_test = train_test_split(X_temp, y_temp, stratify = y_temp, test_size=0.5, random_state=42)"
      ],
      "execution_count": 0,
      "outputs": []
    },
    {
      "cell_type": "code",
      "metadata": {
        "id": "UJwVJZ9JdiYF",
        "colab_type": "code",
        "colab": {
          "base_uri": "https://localhost:8080/"
        },
        "outputId": "27dc1dd1-4e0c-4fd9-c367-e7acc57de1c9"
      },
      "source": [
        "print('Shape of X_train:',X_train.shape)\n",
        "print('Shape of X_val:',X_val.shape)\n",
        "print('Shape of X_test:',X_test.shape)"
      ],
      "execution_count": 52,
      "outputs": [
        {
          "output_type": "stream",
          "text": [
            "Shape of X_train: (197016, 373)\n",
            "Shape of X_val: (42218, 373)\n",
            "Shape of X_test: (42218, 373)\n"
          ],
          "name": "stdout"
        }
      ]
    },
    {
      "cell_type": "markdown",
      "metadata": {
        "id": "TCsTX5eXdiYL",
        "colab_type": "text"
      },
      "source": [
        "### Featurizing the data:"
      ]
    },
    {
      "cell_type": "code",
      "metadata": {
        "id": "NKVgu4uDdiYO",
        "colab_type": "code",
        "colab": {}
      },
      "source": [
        "#Seperation of columns into numeric and categorical columns\n",
        "types = np.array([dt for dt in X_train.dtypes])\n",
        "\n",
        "all_columns = X_train.columns.values\n",
        "is_num = types != 'object'\n",
        "\n",
        "num_cols = all_columns[is_num]\n",
        "cat_cols = all_columns[~is_num]"
      ],
      "execution_count": 0,
      "outputs": []
    },
    {
      "cell_type": "code",
      "metadata": {
        "id": "LeEjiHhCdiYV",
        "colab_type": "code",
        "colab": {}
      },
      "source": [
        "# Featurization of numeric data\n",
        "imputer_num = SimpleImputer(strategy='median')\n",
        "X_train_num = imputer_num.fit_transform(X_train[num_cols])\n",
        "X_val_num = imputer_num.transform(X_val[num_cols])\n",
        "X_test_num = imputer_num.transform(X_test[num_cols])"
      ],
      "execution_count": 0,
      "outputs": []
    },
    {
      "cell_type": "code",
      "metadata": {
        "id": "kMWyjhZBdiYZ",
        "colab_type": "code",
        "colab": {}
      },
      "source": [
        "scaler_num = StandardScaler()\n",
        "X_train_num1 = scaler_num.fit_transform(X_train_num)\n",
        "X_val_num1 = scaler_num.transform(X_val_num)\n",
        "X_test_num1 = scaler_num.transform(X_test_num)"
      ],
      "execution_count": 0,
      "outputs": []
    },
    {
      "cell_type": "code",
      "metadata": {
        "id": "XbMqYIiydiYj",
        "colab_type": "code",
        "colab": {}
      },
      "source": [
        "X_train_num_final = pd.DataFrame(X_train_num1, columns=num_cols)\n",
        "X_val_num_final = pd.DataFrame(X_val_num1, columns=num_cols)\n",
        "X_test_num_final = pd.DataFrame(X_test_num1, columns=num_cols)"
      ],
      "execution_count": 0,
      "outputs": []
    },
    {
      "cell_type": "code",
      "metadata": {
        "id": "fRlxI3xldiYs",
        "colab_type": "code",
        "colab": {}
      },
      "source": [
        "# Featurization of categorical data\n",
        "imputer_cat = SimpleImputer(strategy='constant', fill_value='MISSING')\n",
        "X_train_cat = imputer_cat.fit_transform(X_train[cat_cols])\n",
        "X_val_cat = imputer_cat.transform(X_val[cat_cols])\n",
        "X_test_cat = imputer_cat.transform(X_test[cat_cols])"
      ],
      "execution_count": 0,
      "outputs": []
    },
    {
      "cell_type": "code",
      "metadata": {
        "id": "iLXG3FHpdiYy",
        "colab_type": "code",
        "colab": {}
      },
      "source": [
        "X_train_cat1= pd.DataFrame(X_train_cat, columns=cat_cols)\n",
        "X_val_cat1= pd.DataFrame(X_val_cat, columns=cat_cols)\n",
        "X_test_cat1= pd.DataFrame(X_test_cat, columns=cat_cols)"
      ],
      "execution_count": 0,
      "outputs": []
    },
    {
      "cell_type": "code",
      "metadata": {
        "id": "-fxv_w2mdiY3",
        "colab_type": "code",
        "colab": {}
      },
      "source": [
        "ohe = OneHotEncoder(sparse=False,handle_unknown='ignore')\n",
        "X_train_cat2 = ohe.fit_transform(X_train_cat1)\n",
        "X_val_cat2 = ohe.transform(X_val_cat1)\n",
        "X_test_cat2 = ohe.transform(X_test_cat1)"
      ],
      "execution_count": 0,
      "outputs": []
    },
    {
      "cell_type": "code",
      "metadata": {
        "id": "ckq81IxYdiY9",
        "colab_type": "code",
        "colab": {}
      },
      "source": [
        "cat_cols_ohe = list(ohe.get_feature_names(input_features=cat_cols))"
      ],
      "execution_count": 0,
      "outputs": []
    },
    {
      "cell_type": "code",
      "metadata": {
        "id": "MOjGAxIGdiZD",
        "colab_type": "code",
        "colab": {}
      },
      "source": [
        "X_train_cat_final = pd.DataFrame(X_train_cat2, columns = cat_cols_ohe)\n",
        "X_val_cat_final = pd.DataFrame(X_val_cat2, columns = cat_cols_ohe)\n",
        "X_test_cat_final = pd.DataFrame(X_test_cat2, columns = cat_cols_ohe)"
      ],
      "execution_count": 0,
      "outputs": []
    },
    {
      "cell_type": "code",
      "metadata": {
        "id": "kicrKHnFdiZJ",
        "colab_type": "code",
        "colab": {
          "base_uri": "https://localhost:8080/"
        },
        "outputId": "28c73017-75bd-401d-da88-9b2ee9279f3d"
      },
      "source": [
        "# Final complete data\n",
        "X_train_final = pd.concat([X_train_num_final,X_train_cat_final], axis = 1)\n",
        "X_val_final = pd.concat([X_val_num_final,X_val_cat_final], axis = 1)\n",
        "X_test_final = pd.concat([X_test_num_final,X_test_cat_final], axis = 1)\n",
        "print(X_train_final.shape)\n",
        "print(X_val_final.shape)\n",
        "print(X_test_final.shape)"
      ],
      "execution_count": 62,
      "outputs": [
        {
          "output_type": "stream",
          "text": [
            "(197016, 506)\n",
            "(42218, 506)\n",
            "(42218, 506)\n"
          ],
          "name": "stdout"
        }
      ]
    },
    {
      "cell_type": "markdown",
      "metadata": {
        "id": "jYIxeFZjdiZR",
        "colab_type": "text"
      },
      "source": [
        "### Saving the files for future use:"
      ]
    },
    {
      "cell_type": "code",
      "metadata": {
        "id": "RcpsTDn-diZR",
        "colab_type": "code",
        "colab": {}
      },
      "source": [
        "# Saving the Dataframes into CSV files for future use\n",
        "#X_train_final.to_csv('X_train_final.csv')\n",
        "#X_val_final.to_csv('X_val_final.csv')\n",
        "#X_test_final.to_csv('X_test_final.csv')"
      ],
      "execution_count": 0,
      "outputs": []
    },
    {
      "cell_type": "code",
      "metadata": {
        "id": "BErkoMRMdiZY",
        "colab_type": "code",
        "colab": {}
      },
      "source": [
        "# Saving the numpy arrays into text files for future use\n",
        "#np.savetxt('y.txt', y)\n",
        "#np.savetxt('y_train.txt', y_train)\n",
        "#np.savetxt('y_val.txt', y_val)\n",
        "#np.savetxt('y_test.txt', y_test)"
      ],
      "execution_count": 0,
      "outputs": []
    },
    {
      "cell_type": "markdown",
      "metadata": {
        "id": "sb4p1GhkdiZl",
        "colab_type": "text"
      },
      "source": [
        "___"
      ]
    },
    {
      "cell_type": "markdown",
      "metadata": {
        "id": "knz1X97WdiZm",
        "colab_type": "text"
      },
      "source": [
        "### Selection of features:"
      ]
    },
    {
      "cell_type": "code",
      "metadata": {
        "id": "hxEqNR8LdiZn",
        "colab_type": "code",
        "colab": {}
      },
      "source": [
        "model_sk = lgb.LGBMClassifier(boosting_type='gbdt', max_depth=7, learning_rate=0.01, n_estimators= 2000, \n",
        "                 class_weight='balanced', subsample=0.9, colsample_bytree= 0.8, n_jobs=-1)"
      ],
      "execution_count": 0,
      "outputs": []
    },
    {
      "cell_type": "code",
      "metadata": {
        "id": "W224vdIfdiZ3",
        "colab_type": "code",
        "colab": {}
      },
      "source": [
        "# to avoid json file in train\n",
        "X_train_final.columns = [\"\".join (c if c.isalnum() else \"_\" for c in str(x)) for x in X_train_final.columns]\n",
        "X_test_final.columns = [\"\".join (c if c.isalnum() else \"_\" for c in str(x)) for x in X_test_final.columns]\n",
        "X_val_final.columns= [\"\".join (c if c.isalnum() else \"_\" for c in str(x)) for x in X_val_final.columns]"
      ],
      "execution_count": 0,
      "outputs": []
    },
    {
      "cell_type": "code",
      "metadata": {
        "id": "rqt0ctRSdiZ8",
        "colab_type": "code",
        "colab": {}
      },
      "source": [
        "train_features, valid_features, train_y, valid_y = train_test_split(X_train_final, y_train, test_size = 0.15, random_state = 42)"
      ],
      "execution_count": 0,
      "outputs": []
    },
    {
      "cell_type": "code",
      "metadata": {
        "id": "KrifLgv3diaB",
        "colab_type": "code",
        "colab": {
          "base_uri": "https://localhost:8080/"
        },
        "outputId": "b38e8ae7-610b-45d9-cc38-92ecc230a345"
      },
      "source": [
        "model_sk.fit(train_features, train_y, early_stopping_rounds=100, eval_set = [(valid_features, valid_y)], eval_metric = 'auc', verbose = 200)"
      ],
      "execution_count": 0,
      "outputs": [
        {
          "output_type": "stream",
          "text": [
            "Training until validation scores don't improve for 100 rounds.\n",
            "[200]\tvalid_0's auc: 0.740605\tvalid_0's binary_logloss: 0.593883\n",
            "[400]\tvalid_0's auc: 0.75438\tvalid_0's binary_logloss: 0.568973\n",
            "[600]\tvalid_0's auc: 0.760382\tvalid_0's binary_logloss: 0.554818\n"
          ],
          "name": "stdout"
        }
      ]
    },
    {
      "cell_type": "code",
      "metadata": {
        "id": "3QYTRg4pdiaF",
        "colab_type": "code",
        "colab": {}
      },
      "source": [
        "feature_imp = pd.DataFrame(sorted(zip(model_sk.feature_importances_, X_train_final.columns)), columns=['Value','Feature'])\n",
        "features_df = feature_imp.sort_values(by=\"Value\", ascending=False)\n",
        "selected_features = list(features_df[features_df['Value']>=50]['Feature'])"
      ],
      "execution_count": 0,
      "outputs": []
    },
    {
      "cell_type": "code",
      "metadata": {
        "id": "RpFUvPnrdiaL",
        "colab_type": "code",
        "colab": {}
      },
      "source": [
        "# Saving the selected features into pickle file\n",
        "with open('select_features.txt','wb') as fp:\n",
        "    pickle.dump(selected_features, fp)\n",
        "    \n",
        "print('The no. of features selected:',len(selected_features))    "
      ],
      "execution_count": 0,
      "outputs": []
    },
    {
      "cell_type": "code",
      "metadata": {
        "id": "Mu_YBiqkdiaR",
        "colab_type": "code",
        "colab": {}
      },
      "source": [
        "# Feature importance Plot\n",
        "data1 = features_df.head(20)\n",
        "data = [go.Bar(x =data1.sort_values(by='Value')['Value'] , y = data1.sort_values(by='Value')['Feature'], orientation = 'h',\n",
        "              marker = dict(\n",
        "        color = 'rgba(43, 13, 150, 0.6)',\n",
        "        line = dict(\n",
        "            color = 'rgba(43, 13, 150, 1.0)',\n",
        "            width = 1.5)\n",
        "    )) ]\n",
        "\n",
        "\n",
        "layout = go.Layout(\n",
        "    autosize=False,\n",
        "    width=1300,\n",
        "    height=700,\n",
        "    title = \"Top 20 important features\",\n",
        "    xaxis=dict(\n",
        "        title='Importance value'\n",
        "        ),\n",
        "    yaxis=dict(\n",
        "        automargin=True\n",
        "        ),\n",
        "    bargap=0.4\n",
        "    )\n",
        "\n",
        "\n",
        "fig = go.Figure(data = data, layout=layout)\n",
        "fig.layout.template = 'seaborn'\n",
        "\n",
        "py.iplot(fig)\n"
      ],
      "execution_count": 0,
      "outputs": []
    },
    {
      "cell_type": "markdown",
      "metadata": {
        "id": "1pt25ymHdiaX",
        "colab_type": "text"
      },
      "source": [
        "___"
      ]
    },
    {
      "cell_type": "markdown",
      "metadata": {
        "id": "QjFqeO2EdiaX",
        "colab_type": "text"
      },
      "source": [
        "## Machine Learning Models:\n",
        "\n",
        "I have tried Logistic Regression, Random Forest and LightGBM machine learning models.\n",
        "\n",
        "#### Reusable functions for plotting Confusion matrix and CV plot."
      ]
    },
    {
      "cell_type": "code",
      "metadata": {
        "id": "mdroJsAGdiaZ",
        "colab_type": "code",
        "colab": {}
      },
      "source": [
        "def plot_confusion_matrix(test_y, predicted_y):\n",
        "    # Confusion matrix\n",
        "    C = confusion_matrix(test_y, predicted_y)\n",
        "    \n",
        "    # Recall matrix\n",
        "    A = (((C.T)/(C.sum(axis=1))).T)\n",
        "    \n",
        "    # Precision matrix\n",
        "    B = (C/C.sum(axis=0))\n",
        "    \n",
        "    plt.figure(figsize=(20,4))\n",
        "    \n",
        "    labels = ['Re-paid(0)','Not Re-paid(1)']\n",
        "    cmap=sns.light_palette(\"purple\")\n",
        "    plt.subplot(1,3,1)\n",
        "    sns.heatmap(C, annot=True, cmap=cmap,fmt=\"d\", xticklabels = labels, yticklabels=labels)\n",
        "    plt.xlabel('Predicted Class')\n",
        "    plt.ylabel('Orignal Class')\n",
        "    plt.title('Confusion matrix')\n",
        "    \n",
        "    plt.subplot(1,3,2)\n",
        "    sns.heatmap(A, annot=True, cmap=cmap, xticklabels = labels, yticklabels=labels)\n",
        "    plt.xlabel('Predicted Class')\n",
        "    plt.ylabel('Orignal Class')\n",
        "    plt.title('Recall matrix')\n",
        "    \n",
        "    plt.subplot(1,3,3)\n",
        "    sns.heatmap(B, annot=True, cmap=cmap, xticklabels = labels, yticklabels=labels)\n",
        "    plt.xlabel('Predicted Class')\n",
        "    plt.ylabel('Orignal Class')\n",
        "    plt.title('Precision matrix')\n",
        "    \n",
        "    plt.show()\n",
        "\n",
        "    \n",
        "    \n",
        "def cv_plot(alpha, cv_auc):\n",
        "    \n",
        "    fig, ax = plt.subplots()\n",
        "    ax.plot(np.log10(alpha), cv_auc,c='g')\n",
        "    for i, txt in enumerate(np.round(cv_auc,3)):\n",
        "        ax.annotate((alpha[i],str(txt)), (np.log10(alpha[i]),cv_auc[i]))\n",
        "    plt.grid()\n",
        "    plt.xticks(np.log10(alpha))\n",
        "    plt.title(\"Cross Validation Error for each alpha\")\n",
        "    plt.xlabel(\"Alpha i's\")\n",
        "    plt.ylabel(\"Error measure\")\n",
        "    plt.show()    "
      ],
      "execution_count": 0,
      "outputs": []
    },
    {
      "cell_type": "markdown",
      "metadata": {
        "id": "kCN7x_BKdiae",
        "colab_type": "text"
      },
      "source": [
        "### Logistic regression with selected features:\n",
        "\n",
        "Logistic Regression finds a hyperplane which best seperates the given positive and negative data points.\n"
      ]
    },
    {
      "cell_type": "code",
      "metadata": {
        "id": "JSyeSTMUdiaf",
        "colab_type": "code",
        "colab": {}
      },
      "source": [
        "\n",
        "alpha = np.logspace(-4,4,9)\n",
        "cv_auc_score = []\n",
        "\n",
        "\n",
        "for i in alpha:\n",
        "    clf = SGDClassifier(alpha=i, penalty='l1',class_weight = 'balanced', loss='log', random_state=28)\n",
        "    clf.fit(X_train_final[selected_features], y_train)\n",
        "    sig_clf = CalibratedClassifierCV(clf, method='sigmoid')\n",
        "    sig_clf.fit(X_train_final[selected_features], y_train)\n",
        "    y_pred_prob = sig_clf.predict_proba(X_val_final[selected_features])[:,1]\n",
        "    cv_auc_score.append(roc_auc_score(y_val,y_pred_prob))\n",
        "    print('For alpha {0}, cross validation AUC score {1}'.format(i,roc_auc_score(y_val,y_pred_prob)))\n",
        "    \n",
        "\n",
        "cv_plot(alpha, cv_auc_score)\n",
        "\n",
        "print('The Optimal C value is:', alpha[np.argmax(cv_auc_score)])    "
      ],
      "execution_count": 0,
      "outputs": []
    },
    {
      "cell_type": "code",
      "metadata": {
        "id": "TQGryWCpdiak",
        "colab_type": "code",
        "colab": {}
      },
      "source": [
        "best_alpha = alpha[np.argmax(cv_auc_score)]\n",
        "logreg = SGDClassifier(alpha = best_alpha, class_weight = 'balanced', penalty = 'l1', loss='log', random_state = 28)\n",
        "logreg.fit(X_train_final[selected_features], y_train)\n",
        "logreg_sig_clf = CalibratedClassifierCV(logreg, method='sigmoid')\n",
        "logreg_sig_clf.fit(X_train_final[selected_features], y_train)\n",
        "y_pred_prob = logreg_sig_clf.predict_proba(X_train_final[selected_features])[:,1]\n",
        "print('For best alpha {0}, The Train AUC score is {1}'.format(best_alpha, roc_auc_score(y_train,y_pred_prob) ))    \n",
        "y_pred_prob = logreg_sig_clf.predict_proba(X_val_final[selected_features])[:,1]\n",
        "print('For best alpha {0}, The Cross validated AUC score is {1}'.format(best_alpha, roc_auc_score(y_val,y_pred_prob) ))  \n",
        "y_pred_prob = logreg_sig_clf.predict_proba(X_test_final[selected_features])[:,1]\n",
        "print('For best alpha {0}, The Test AUC score is {1}'.format(best_alpha, roc_auc_score(y_test,y_pred_prob) ))"
      ],
      "execution_count": 0,
      "outputs": []
    },
    {
      "cell_type": "code",
      "metadata": {
        "id": "gPS4cIDndiap",
        "colab_type": "code",
        "colab": {}
      },
      "source": [
        "y_pred = logreg.predict(X_test_final[selected_features])\n",
        "print('The test AUC score is :', roc_auc_score(y_test,y_pred_prob))\n",
        "print('The percentage of misclassified points {:05.2f}% :'.format((1-accuracy_score(y_test, y_pred))*100))\n",
        "plot_confusion_matrix(y_test, y_pred)"
      ],
      "execution_count": 0,
      "outputs": []
    },
    {
      "cell_type": "code",
      "metadata": {
        "id": "mB43wFJXdiau",
        "colab_type": "code",
        "colab": {}
      },
      "source": [
        "cm = confusion_matrix(y_test, y_pred)\n",
        "sns.heatmap(cm, square=True, annot=True, cmap='RdBu', cbar=False,xticklabels=['Yes', 'No'], yticklabels=['Yes' 'no'])\n",
        "plt.xlabel('true label')\n",
        "plt.ylabel('predicted label')"
      ],
      "execution_count": 0,
      "outputs": []
    },
    {
      "cell_type": "code",
      "metadata": {
        "id": "NRNQLke4dia0",
        "colab_type": "code",
        "colab": {}
      },
      "source": [
        "from sklearn.metrics import roc_curve\n",
        "fpr, tpr, thresholds = roc_curve(y_test, y_pred_prob)\n",
        "auc = roc_auc_score(y_test,y_pred_prob)\n",
        "\n",
        "\n",
        "\n",
        "plt.figure(figsize=(6,6))\n",
        "plt.plot(fpr, tpr, marker='.')\n",
        "plt.plot([0, 1], [0, 1], linestyle='--',)\n",
        "plt.title('ROC curve', fontsize = 20)\n",
        "plt.xlabel('FPR', fontsize=15)\n",
        "plt.ylabel('TPR', fontsize=15)\n",
        "plt.grid()\n",
        "plt.legend([\"AUC=%.3f\"%auc])\n",
        "plt.show()"
      ],
      "execution_count": 0,
      "outputs": []
    },
    {
      "cell_type": "markdown",
      "metadata": {
        "id": "wUc19L1Jdia6",
        "colab_type": "text"
      },
      "source": [
        "## Random Forest with selected features:\n",
        "\n",
        "The Random Forest is a model made up of many decision trees. Rather than just simply averaging the prediction of trees (which we could call a “forest”), this model uses two key concepts that gives it the name random:\n",
        "\n",
        "    Random sampling of training data points when building trees\n",
        "    Random subsets of features considered when splitting nodes"
      ]
    },
    {
      "cell_type": "code",
      "metadata": {
        "id": "pcxQhdHudia7",
        "colab_type": "code",
        "colab": {}
      },
      "source": [
        "alpha = [200,500,1000,2000]\n",
        "max_depth = [7, 10]\n",
        "cv_auc_score = []\n",
        "for i in alpha:\n",
        "    for j in max_depth:\n",
        "        clf = RandomForestClassifier(n_estimators=i, criterion='gini', max_depth=j,class_weight='balanced',\n",
        "                                     random_state=42, n_jobs=-1)\n",
        "        clf.fit(X_train_final[selected_features], y_train)\n",
        "        sig_clf = CalibratedClassifierCV(clf, method=\"sigmoid\")\n",
        "        sig_clf.fit(X_train_final[selected_features], y_train)\n",
        "        y_pred_prob = sig_clf.predict_proba(X_val_final[selected_features])[:,1]\n",
        "        cv_auc_score.append(roc_auc_score(y_val,y_pred_prob))\n",
        "        print('For n_estimators {0}, max_depth {1} cross validation AUC score {2}'.\n",
        "              format(i,j,roc_auc_score(y_val,y_pred_prob)))"
      ],
      "execution_count": 0,
      "outputs": []
    },
    {
      "cell_type": "code",
      "metadata": {
        "id": "IPG8dLnbdibA",
        "colab_type": "code",
        "colab": {}
      },
      "source": [
        "best_alpha = np.argmax(cv_auc_score)\n",
        "\n",
        "print('The optimal values are: n_estimators {0}, max_depth {1} '.format(alpha[int(best_alpha/2)],\n",
        "                                                                        max_depth[int(best_alpha%2)]))\n",
        "rf = RandomForestClassifier(n_estimators=alpha[int(best_alpha/2)], criterion='gini', max_depth=max_depth[int(best_alpha%2)],\n",
        "                            class_weight='balanced', random_state=42, n_jobs=-1)\n"
      ],
      "execution_count": 0,
      "outputs": []
    },
    {
      "cell_type": "code",
      "metadata": {
        "id": "6c9F_OHXdibH",
        "colab_type": "code",
        "colab": {}
      },
      "source": [
        "rf.fit(X_train_final[selected_features], y_train)\n",
        "rf_sig_clf = CalibratedClassifierCV(rf, method=\"sigmoid\")\n",
        "rf_sig_clf.fit(X_train_final[selected_features], y_train)"
      ],
      "execution_count": 0,
      "outputs": []
    },
    {
      "cell_type": "code",
      "metadata": {
        "id": "x95l7rsodibj",
        "colab_type": "code",
        "colab": {}
      },
      "source": [
        "y_pred_prob = rf_sig_clf.predict_proba(X_train_final[selected_features])[:,1]\n",
        "print('For best n_estimators {0} best max_depth {1}, The Train AUC score is {2}'.format(alpha[int(best_alpha/2)], \n",
        "                                                    max_depth[int(best_alpha%2)],roc_auc_score(y_train,y_pred_prob)))\n",
        "\n",
        "\n",
        "y_pred_prob = rf_sig_clf.predict_proba(X_val_final[selected_features])[:,1]\n",
        "print('For best n_estimators {0} best max_depth {1}, The Validation AUC score is {2}'.format(alpha[int(best_alpha/2)],\n",
        "                                                            max_depth[int(best_alpha%2)],roc_auc_score(y_val,y_pred_prob)))\n",
        "\n",
        "y_pred_prob = rf_sig_clf.predict_proba(X_test_final[selected_features])[:,1]\n",
        "print('For best n_estimators {0} best max_depth {1}, The Test AUC score is {2}'.format(alpha[int(best_alpha/2)],\n",
        "                                                        max_depth[int(best_alpha%2)],roc_auc_score(y_test,y_pred_prob)))\n",
        "\n",
        "y_pred = rf_sig_clf.predict(X_test_final[selected_features])\n",
        "print('The test AUC score is :', roc_auc_score(y_test,y_pred_prob))\n",
        "print('The percentage of misclassified points {:05.2f}% :'.format((1-accuracy_score(y_test, y_pred))*100))\n",
        "plot_confusion_matrix(y_test, y_pred)"
      ],
      "execution_count": 0,
      "outputs": []
    },
    {
      "cell_type": "code",
      "metadata": {
        "id": "5jMiEC6Ldibp",
        "colab_type": "code",
        "colab": {}
      },
      "source": [
        "from sklearn.metrics import roc_curve\n",
        "fpr, tpr, thresholds = roc_curve(y_test, y_pred_prob)\n",
        "auc = roc_auc_score(y_test,y_pred_prob)\n",
        "\n",
        "\n",
        "plt.figure(figsize=(8,6))\n",
        "plt.plot(fpr, tpr, marker='.')\n",
        "plt.plot([0, 1], [0, 1], linestyle='--')\n",
        "plt.title('ROC curve', fontsize = 20)\n",
        "plt.xlabel('FPR', fontsize=15)\n",
        "plt.ylabel('TPR', fontsize=15)\n",
        "plt.grid()\n",
        "plt.legend([\"AUC=%.3f\"%auc])\n",
        "plt.show()"
      ],
      "execution_count": 0,
      "outputs": []
    },
    {
      "cell_type": "markdown",
      "metadata": {
        "id": "zYysabKAdib2",
        "colab_type": "text"
      },
      "source": [
        "## LightGBM with selected features:\n",
        "\n",
        "Light GBM is a fast, distributed, high-performance gradient boosting framework based on decision tree algorithm, used for ranking, classification and many other machine learning tasks.\n",
        "\n",
        "Since it is based on decision tree algorithms, it splits the tree leaf wise with the best fit whereas other boosting algorithms split the tree depth wise or level wise rather than leaf-wise. So when growing on the same leaf in Light GBM, the leaf-wise algorithm can reduce more loss than the level-wise algorithm and hence results in much better accuracy which can rarely be achieved by any of the existing boosting algorithms. Also, it is surprisingly very fast, hence the word ‘Light’."
      ]
    },
    {
      "cell_type": "code",
      "metadata": {
        "id": "Zm-S3pfJdib2",
        "colab_type": "code",
        "colab": {}
      },
      "source": [
        "weight = np.ones((len(X_train_final),), dtype=int)\n",
        "for i in range(len(X_train_final)):\n",
        "    if y_train[i]== 0:\n",
        "        weight[i]=1\n",
        "    else:\n",
        "        weight[i]=11"
      ],
      "execution_count": 0,
      "outputs": []
    },
    {
      "cell_type": "code",
      "metadata": {
        "id": "WTKak1iNdicH",
        "colab_type": "code",
        "colab": {}
      },
      "source": [
        "train_data=lgb.Dataset(X_train_final[selected_features], label = y_train, weight= weight )\n",
        "valid_data=lgb.Dataset(X_val_final[selected_features], label = y_val)"
      ],
      "execution_count": 0,
      "outputs": []
    },
    {
      "cell_type": "code",
      "metadata": {
        "id": "ahdBLZxHdicM",
        "colab_type": "code",
        "colab": {}
      },
      "source": [
        "cv_auc_score = []\n",
        "max_depth = [3, 5, 7, 10]\n",
        "\n",
        "for i in max_depth:\n",
        "    \n",
        "    params = {'boosting_type': 'gbdt',\n",
        "          'max_depth' : i,\n",
        "          'objective': 'binary',\n",
        "          'nthread': 5,\n",
        "          'num_leaves': 32,\n",
        "          'learning_rate': 0.05,\n",
        "          'max_bin': 512,\n",
        "          'subsample_for_bin': 200,\n",
        "          'subsample': 0.7,\n",
        "          'subsample_freq': 1,\n",
        "          'colsample_bytree': 0.8,\n",
        "          'reg_alpha': 20,\n",
        "          'reg_lambda': 20,\n",
        "          'min_split_gain': 0.5,\n",
        "          'min_child_weight': 1,\n",
        "          'min_child_samples': 10,\n",
        "          'scale_pos_weight': 1,\n",
        "          'num_class' : 1,\n",
        "          'metric' : 'auc'\n",
        "          }\n",
        "    \n",
        "lgbm = lgb.train(params,\n",
        "                 train_data,\n",
        "                 2500,\n",
        "                 valid_sets=valid_data,\n",
        "                 early_stopping_rounds= 100,\n",
        "                 verbose_eval= 10\n",
        "                 )    "
      ],
      "execution_count": 0,
      "outputs": []
    },
    {
      "cell_type": "code",
      "metadata": {
        "id": "ZxqW6ZAndicT",
        "colab_type": "code",
        "colab": {}
      },
      "source": [
        "y_pred_prob = lgbm.predict(X_val_final[selected_features])\n",
        "cv_auc_score.append(roc_auc_score(y_val,y_pred_prob))\n",
        "\n",
        "print('For  max_depth {0} and some other parameters, cross validation AUC score {1}'.format(i,roc_auc_score(y_val,y_pred_prob)))\n",
        "print('The optimal  max_depth: ', max_depth[np.argmax(cv_auc_score)])"
      ],
      "execution_count": 0,
      "outputs": []
    },
    {
      "cell_type": "code",
      "metadata": {
        "id": "BmBQNMRGdica",
        "colab_type": "code",
        "colab": {}
      },
      "source": [
        "params = {'boosting_type': 'gbdt',\n",
        "          'max_depth' : max_depth[np.argmax(cv_auc_score)],\n",
        "          'objective': 'binary',\n",
        "          'nthread': 5,\n",
        "          'num_leaves': 32,\n",
        "          'learning_rate': 0.05,\n",
        "          'max_bin': 512,\n",
        "          'subsample_for_bin': 200,\n",
        "          'subsample': 0.7,\n",
        "          'subsample_freq': 1,\n",
        "          'colsample_bytree': 0.8,\n",
        "          'reg_alpha': 20,\n",
        "          'reg_lambda': 20,\n",
        "          'min_split_gain': 0.5,\n",
        "          'min_child_weight': 1,\n",
        "          'min_child_samples': 10,\n",
        "          'scale_pos_weight': 1,\n",
        "          'num_class' : 1,\n",
        "          'metric' : 'auc'\n",
        "          }\n",
        "\n",
        "lgbm = lgb.train(params,\n",
        "                 train_data,\n",
        "                 2500,\n",
        "                 valid_sets=valid_data,\n",
        "                 early_stopping_rounds= 100,\n",
        "                 verbose_eval= 10\n",
        "                 )"
      ],
      "execution_count": 0,
      "outputs": []
    },
    {
      "cell_type": "code",
      "metadata": {
        "id": "8DLnwK_Tdicg",
        "colab_type": "code",
        "colab": {}
      },
      "source": [
        "y_pred_prob = lgbm.predict(X_train_final[selected_features])\n",
        "print('For best max_depth {0}, The Train AUC score is {1}'.format(max_depth[np.argmax(cv_auc_score)], \n",
        "                                                                  roc_auc_score(y_train,y_pred_prob) )) \n",
        "\n",
        "y_pred_prob = lgbm.predict(X_val_final[selected_features])\n",
        "print('For best max_depth {0}, The Cross validated AUC score is {1}'.format(max_depth[np.argmax(cv_auc_score)], \n",
        "                                                                            roc_auc_score(y_val,y_pred_prob) ))\n",
        "\n",
        "y_pred_prob = lgbm.predict(X_test_final[selected_features])\n",
        "print('For best max_depth {0}, The Test AUC score is {1}'.format(max_depth[np.argmax(cv_auc_score)], \n",
        "                                                                 roc_auc_score(y_test,y_pred_prob) ))"
      ],
      "execution_count": 0,
      "outputs": []
    },
    {
      "cell_type": "code",
      "metadata": {
        "id": "1UuavT-sdicn",
        "colab_type": "code",
        "colab": {}
      },
      "source": [
        "y_pred = np.ones((len(X_test_final),), dtype=int)\n",
        "\n",
        "for i in range(len(y_pred_prob)):\n",
        "    if y_pred_prob[i]<=0.5:\n",
        "        y_pred[i]=0\n",
        "    else:\n",
        "        y_pred[i]=1\n",
        "        \n",
        "print('The test AUC score is :', roc_auc_score(y_test,y_pred_prob))\n",
        "print('The percentage of misclassified points {:05.2f}% :'.format((1-accuracy_score(y_test, y_pred))*100))\n",
        "plot_confusion_matrix(y_test, y_pred)        "
      ],
      "execution_count": 0,
      "outputs": []
    },
    {
      "cell_type": "code",
      "metadata": {
        "id": "CmfEiq6Jdict",
        "colab_type": "code",
        "colab": {}
      },
      "source": [
        "from sklearn.metrics import roc_curve\n",
        "fpr, tpr, thresholds = roc_curve(y_test, y_pred_prob)\n",
        "auc = roc_auc_score(y_test,y_pred_prob)\n",
        "\n",
        "plt.figure(figsize=(8,6))\n",
        "plt.plot(fpr, tpr, marker='.')\n",
        "plt.plot([0, 1], [0, 1], linestyle='--')\n",
        "plt.title('ROC curve', fontsize = 20)\n",
        "plt.xlabel('FPR', fontsize=15)\n",
        "plt.ylabel('TPR', fontsize=15)\n",
        "plt.grid()\n",
        "plt.legend([\"AUC=%.3f\"%auc])\n",
        "plt.show()"
      ],
      "execution_count": 0,
      "outputs": []
    },
    {
      "cell_type": "markdown",
      "metadata": {
        "id": "Z1cfX2H6dicz",
        "colab_type": "text"
      },
      "source": [
        "### Overview of Results:"
      ]
    },
    {
      "cell_type": "markdown",
      "metadata": {
        "id": "7gykemtldicz",
        "colab_type": "text"
      },
      "source": [
        "| Model                                       | train AUC | Validation Auc | Test AUC | \n",
        "|---------------------------------------------|-----------|----------------|----------|\n",
        "| Logistic regression with selected features: | 0.756     |   0.747        |  0.753   |   \n",
        "| Random Forest with selected features:       | 0.841     |   0.751        |  0.751   |  \n",
        "| LightGBM with selected features:            | 0.861     |   0.781        |  0.787   |  "
      ]
    },
    {
      "cell_type": "markdown",
      "metadata": {
        "id": "OjXajNcCdic1",
        "colab_type": "text"
      },
      "source": [
        "LightGBM gives the best performance and it is also faster to train when compared to Xgboost.\n",
        "\n",
        "### Saving the final model as Pickle file:"
      ]
    },
    {
      "cell_type": "code",
      "metadata": {
        "id": "PKVLEWN5dic3",
        "colab_type": "code",
        "colab": {}
      },
      "source": [
        "# Saving the final model LightGBM as pickle file for the future use in productionizing the modelwith open('final_model.pkl','wb') as fp:\n",
        "#pickle.dump(lgbm, fp)"
      ],
      "execution_count": 0,
      "outputs": []
    },
    {
      "cell_type": "markdown",
      "metadata": {
        "id": "zoennyBddic6",
        "colab_type": "text"
      },
      "source": [
        "____"
      ]
    },
    {
      "cell_type": "code",
      "metadata": {
        "id": "JV6E0pG0dic7",
        "colab_type": "code",
        "colab": {}
      },
      "source": [
        ""
      ],
      "execution_count": 0,
      "outputs": []
    }
  ]
}